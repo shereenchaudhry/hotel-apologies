{
 "cells": [
  {
   "cell_type": "code",
   "execution_count": 31,
   "id": "84624b69",
   "metadata": {},
   "outputs": [],
   "source": [
    "import pandas as pd"
   ]
  },
  {
   "cell_type": "code",
   "execution_count": 2,
   "id": "e56b4ad1",
   "metadata": {},
   "outputs": [],
   "source": [
    "df1 = pd.read_csv(\"existence_label.csv\")"
   ]
  },
  {
   "cell_type": "code",
   "execution_count": 4,
   "id": "528e854a",
   "metadata": {},
   "outputs": [],
   "source": [
    "q = df1.columns[1:14].to_list()\n",
    "# q.append(\"num_ratings\")"
   ]
  },
  {
   "cell_type": "code",
   "execution_count": 6,
   "id": "806b7dfa",
   "metadata": {},
   "outputs": [],
   "source": [
    "df2 = pd.DataFrame(df1, columns = q)"
   ]
  },
  {
   "cell_type": "code",
   "execution_count": 8,
   "id": "5c7b4f7d",
   "metadata": {},
   "outputs": [],
   "source": [
    "df2[df2>0] = 1"
   ]
  },
  {
   "cell_type": "code",
   "execution_count": 9,
   "id": "3c96d68b",
   "metadata": {},
   "outputs": [],
   "source": [
    "df2[df2 < 0] = 0"
   ]
  },
  {
   "cell_type": "code",
   "execution_count": 10,
   "id": "80ae9b0d",
   "metadata": {},
   "outputs": [],
   "source": [
    "df2['total'] = df2.sum(1)"
   ]
  },
  {
   "cell_type": "code",
   "execution_count": 11,
   "id": "c4952eed",
   "metadata": {},
   "outputs": [],
   "source": [
    "df2['num_raters'] = df1[\"num_ratings\"].to_list()"
   ]
  },
  {
   "cell_type": "code",
   "execution_count": 12,
   "id": "d82f9566",
   "metadata": {},
   "outputs": [],
   "source": [
    "df2[\"agreement\"] = df2['total']/df2['num_raters']"
   ]
  },
  {
   "cell_type": "code",
   "execution_count": 22,
   "id": "d12fce84",
   "metadata": {},
   "outputs": [],
   "source": [
    "r = []\n",
    "for index, row in df2.iterrows():\n",
    "    if row[\"agreement\"] > 0.5:\n",
    "        r.append(row[\"agreement\"])\n",
    "    else:\n",
    "        r.append((1-row[\"agreement\"]))\n",
    "        "
   ]
  },
  {
   "cell_type": "code",
   "execution_count": 24,
   "id": "75624f1d",
   "metadata": {},
   "outputs": [],
   "source": [
    "df2[\"agreement_change\"] = r"
   ]
  },
  {
   "cell_type": "code",
   "execution_count": 30,
   "id": "a8c4aea5",
   "metadata": {},
   "outputs": [
    {
     "data": {
      "text/plain": [
       "0      1.000000\n",
       "1      0.666667\n",
       "2      1.000000\n",
       "3      1.000000\n",
       "4      1.000000\n",
       "         ...   \n",
       "775    1.000000\n",
       "776    0.714286\n",
       "777    1.000000\n",
       "778    0.750000\n",
       "779    1.000000\n",
       "Name: agreement_change, Length: 780, dtype: float64"
      ]
     },
     "execution_count": 30,
     "metadata": {},
     "output_type": "execute_result"
    }
   ],
   "source": [
    "df2[\"agreement_change\"]"
   ]
  },
  {
   "cell_type": "code",
   "execution_count": 26,
   "id": "9a569173",
   "metadata": {},
   "outputs": [
    {
     "data": {
      "text/plain": [
       "<AxesSubplot:ylabel='Frequency'>"
      ]
     },
     "execution_count": 26,
     "metadata": {},
     "output_type": "execute_result"
    },
    {
     "data": {
      "image/png": "[encoded data removed]",
      "text/plain": [
       "<Figure size 432x288 with 1 Axes>"
      ]
     },
     "metadata": {
      "needs_background": "light"
     },
     "output_type": "display_data"
    }
   ],
   "source": [
    "df2[\"agreement_change\"].plot(kind = \"hist\")"
   ]
  },
  {
   "cell_type": "code",
   "execution_count": 28,
   "id": "88a386ff",
   "metadata": {},
   "outputs": [
    {
     "data": {
      "text/plain": [
       "0.888074108939494"
      ]
     },
     "execution_count": 28,
     "metadata": {},
     "output_type": "execute_result"
    }
   ],
   "source": [
    "import numpy as np\n",
    "np.mean(df2[\"agreement_change\"])"
   ]
  },
  {
   "cell_type": "code",
   "execution_count": 29,
   "id": "b25066bb",
   "metadata": {},
   "outputs": [
    {
     "data": {
      "text/plain": [
       "<AxesSubplot:ylabel='Frequency'>"
      ]
     },
     "execution_count": 29,
     "metadata": {},
     "output_type": "execute_result"
    },
    {
     "data": {
      "image/png": "[encoded data removed]",
      "text/plain": [
       "<Figure size 432x288 with 1 Axes>"
      ]
     },
     "metadata": {
      "needs_background": "light"
     },
     "output_type": "display_data"
    }
   ],
   "source": [
    "df2[\"num_raters\"].plot(kind = \"hist\")"
   ]
  },
  {
   "cell_type": "code",
   "execution_count": 57,
   "id": "05c75bf8",
   "metadata": {},
   "outputs": [],
   "source": [
    "sub = []\n",
    "for index, row in df2.iterrows():\n",
    "    if row[\"num_raters\"] >= 13:\n",
    "        sub.append(row[\"agreement_change\"])"
   ]
  },
  {
   "cell_type": "code",
   "execution_count": 55,
   "id": "9df0bbc1",
   "metadata": {},
   "outputs": [
    {
     "data": {
      "text/plain": [
       "[0.5384615384615384, 1.0]"
      ]
     },
     "execution_count": 55,
     "metadata": {},
     "output_type": "execute_result"
    }
   ],
   "source": [
    "sub"
   ]
  },
  {
   "cell_type": "code",
   "execution_count": 39,
   "id": "0a69ab19",
   "metadata": {},
   "outputs": [
    {
     "data": {
      "text/plain": [
       "0.8973204899675488"
      ]
     },
     "execution_count": 39,
     "metadata": {},
     "output_type": "execute_result"
    }
   ],
   "source": [
    "np.mean(np.array(sub)) # number of raters >= 8"
   ]
  },
  {
   "cell_type": "code",
   "execution_count": 42,
   "id": "ece59a34",
   "metadata": {},
   "outputs": [
    {
     "data": {
      "text/plain": [
       "0.8989578014578015"
      ]
     },
     "execution_count": 42,
     "metadata": {},
     "output_type": "execute_result"
    }
   ],
   "source": [
    "np.mean(np.array(sub)) # number of raters >= 7"
   ]
  },
  {
   "cell_type": "code",
   "execution_count": 45,
   "id": "713858c5",
   "metadata": {},
   "outputs": [
    {
     "data": {
      "text/plain": [
       "0.8797650560362424"
      ]
     },
     "execution_count": 45,
     "metadata": {},
     "output_type": "execute_result"
    }
   ],
   "source": [
    "np.mean(np.array(sub)) # number of raters >= 9"
   ]
  },
  {
   "cell_type": "code",
   "execution_count": 48,
   "id": "da5b4635",
   "metadata": {},
   "outputs": [
    {
     "data": {
      "text/plain": [
       "0.8815684315684316"
      ]
     },
     "execution_count": 48,
     "metadata": {},
     "output_type": "execute_result"
    }
   ],
   "source": [
    "np.mean(np.array(sub)) # number of raters >= 10"
   ]
  },
  {
   "cell_type": "code",
   "execution_count": 51,
   "id": "5fc1c38f",
   "metadata": {},
   "outputs": [
    {
     "data": {
      "text/plain": [
       "0.9083916083916084"
      ]
     },
     "execution_count": 51,
     "metadata": {},
     "output_type": "execute_result"
    }
   ],
   "source": [
    "np.mean(np.array(sub)) # number of raters >= 11"
   ]
  },
  {
   "cell_type": "code",
   "execution_count": 53,
   "id": "719f736a",
   "metadata": {},
   "outputs": [
    {
     "data": {
      "text/plain": [
       "0.7692307692307692"
      ]
     },
     "execution_count": 53,
     "metadata": {},
     "output_type": "execute_result"
    }
   ],
   "source": [
    "np.mean(np.array(sub)) # number of raters >= 12"
   ]
  },
  {
   "cell_type": "code",
   "execution_count": 58,
   "id": "887b37b1",
   "metadata": {},
   "outputs": [
    {
     "data": {
      "text/plain": [
       "0.7692307692307692"
      ]
     },
     "execution_count": 58,
     "metadata": {},
     "output_type": "execute_result"
    }
   ],
   "source": [
    "np.mean(np.array(sub)) # number of raters >= 13"
   ]
  },
  {
   "cell_type": "code",
   "execution_count": null,
   "id": "46e0a802",
   "metadata": {},
   "outputs": [],
   "source": []
  },
  {
   "cell_type": "code",
   "execution_count": 61,
   "id": "89afb4cb",
   "metadata": {},
   "outputs": [],
   "source": [
    "at_least_agreement = {}\n",
    "for i in range(14):\n",
    "    sub = []\n",
    "    for index, row in df2.iterrows():\n",
    "        if row[\"num_raters\"] >= i:\n",
    "            sub.append(row[\"agreement_change\"])\n",
    "            at_least_agreement[\"agreement level of number of raters is at least {}\".format(i)] = np.mean(np.array(sub))"
   ]
  },
  {
   "cell_type": "code",
   "execution_count": 63,
   "id": "8c3feb6d",
   "metadata": {},
   "outputs": [
    {
     "data": {
      "text/plain": [
       "{'agreement level of number of raters is at least 0': 0.8880741089394936,\n",
       " 'agreement level of number of raters is at least 1': 0.8880741089394936,\n",
       " 'agreement level of number of raters is at least 2': 0.8880741089394936,\n",
       " 'agreement level of number of raters is at least 3': 0.8880741089394936,\n",
       " 'agreement level of number of raters is at least 4': 0.8892716087202492,\n",
       " 'agreement level of number of raters is at least 5': 0.8905826011595243,\n",
       " 'agreement level of number of raters is at least 6': 0.8961823322341615,\n",
       " 'agreement level of number of raters is at least 7': 0.8989578014578015,\n",
       " 'agreement level of number of raters is at least 8': 0.8973204899675488,\n",
       " 'agreement level of number of raters is at least 9': 0.8797650560362424,\n",
       " 'agreement level of number of raters is at least 10': 0.8815684315684316,\n",
       " 'agreement level of number of raters is at least 11': 0.9083916083916084,\n",
       " 'agreement level of number of raters is at least 12': 0.7692307692307692,\n",
       " 'agreement level of number of raters is at least 13': 0.7692307692307692}"
      ]
     },
     "execution_count": 63,
     "metadata": {},
     "output_type": "execute_result"
    }
   ],
   "source": [
    "at_least_agreement"
   ]
  },
  {
   "cell_type": "code",
   "execution_count": 64,
   "id": "19a3230e",
   "metadata": {},
   "outputs": [],
   "source": [
    "at_least_agreement = {}\n",
    "for i in range(14):\n",
    "    sub = []\n",
    "    for index, row in df2.iterrows():\n",
    "        if row[\"num_raters\"] == i:\n",
    "            sub.append(row[\"agreement_change\"])\n",
    "            at_least_agreement[\"agreement level of number of raters is {}\".format(i)] = np.mean(np.array(sub))"
   ]
  },
  {
   "cell_type": "code",
   "execution_count": 65,
   "id": "565a8e57",
   "metadata": {},
   "outputs": [
    {
     "data": {
      "text/plain": [
       "{'agreement level of number of raters is 3': 0.8813559322033898,\n",
       " 'agreement level of number of raters is 4': 0.8854166666666666,\n",
       " 'agreement level of number of raters is 5': 0.8795180722891566,\n",
       " 'agreement level of number of raters is 6': 0.8912429378531073,\n",
       " 'agreement level of number of raters is 7': 0.9010989010989009,\n",
       " 'agreement level of number of raters is 8': 0.9145833333333333,\n",
       " 'agreement level of number of raters is 9': 0.8781362007168458,\n",
       " 'agreement level of number of raters is 10': 0.8666666666666667,\n",
       " 'agreement level of number of raters is 11': 0.9431818181818182,\n",
       " 'agreement level of number of raters is 13': 0.7692307692307692}"
      ]
     },
     "execution_count": 65,
     "metadata": {},
     "output_type": "execute_result"
    }
   ],
   "source": [
    "at_least_agreement"
   ]
  },
  {
   "cell_type": "code",
   "execution_count": null,
   "id": "c2c26407",
   "metadata": {},
   "outputs": [],
   "source": []
  },
  {
   "cell_type": "code",
   "execution_count": null,
   "id": "d59592a4",
   "metadata": {},
   "outputs": [],
   "source": []
  },
  {
   "cell_type": "code",
   "execution_count": null,
   "id": "90a12a1a",
   "metadata": {},
   "outputs": [],
   "source": []
  }
 ],
 "metadata": {
  "kernelspec": {
   "display_name": "Python 3 (ipykernel)",
   "language": "python",
   "name": "python3"
  },
  "language_info": {
   "codemirror_mode": {
    "name": "ipython",
    "version": 3
   },
   "file_extension": ".py",
   "mimetype": "text/x-python",
   "name": "python",
   "nbconvert_exporter": "python",
   "pygments_lexer": "ipython3",
   "version": "3.8.8"
  }
 },
 "nbformat": 4,
 "nbformat_minor": 5
}
