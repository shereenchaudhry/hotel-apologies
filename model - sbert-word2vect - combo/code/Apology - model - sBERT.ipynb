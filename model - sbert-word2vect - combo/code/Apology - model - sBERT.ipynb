{
 "cells": [
  {
   "cell_type": "code",
   "execution_count": 1,
   "id": "b6fe4b40",
   "metadata": {},
   "outputs": [],
   "source": [
    "import pandas as pd\n",
    "import matplotlib as mpl\n",
    "from matplotlib import pyplot as plt\n",
    "from pylab import rcParams\n",
    "import networkx as nx\n",
    "from gensim.models import Word2Vec\n",
    "import gensim\n",
    "import numpy as np"
   ]
  },
  {
   "cell_type": "code",
   "execution_count": 2,
   "id": "087d634b",
   "metadata": {},
   "outputs": [],
   "source": [
    "df_sbert = pd.read_csv(\"sBERT_features.csv\")"
   ]
  },
  {
   "cell_type": "code",
   "execution_count": 3,
   "id": "562deaa3",
   "metadata": {},
   "outputs": [],
   "source": [
    "df_top_pos = df_sbert[df_sbert[\"label\"] == 1]\n",
    "df_top_neg = df_sbert[df_sbert[\"label\"] == 0]"
   ]
  },
  {
   "cell_type": "code",
   "execution_count": 4,
   "id": "45c748dc",
   "metadata": {},
   "outputs": [
    {
     "name": "stdout",
     "output_type": "stream",
     "text": [
      "(519, 388)\n"
     ]
    }
   ],
   "source": [
    "from sklearn.utils import resample\n",
    "neg_upsample = resample(df_top_neg,\n",
    "             replace=True,\n",
    "             n_samples=len(df_top_pos),\n",
    "             random_state=42)\n",
    "\n",
    "print(neg_upsample.shape)"
   ]
  },
  {
   "cell_type": "code",
   "execution_count": 5,
   "id": "ce39b786",
   "metadata": {},
   "outputs": [],
   "source": [
    "data_upsampled = pd.concat([df_top_pos, neg_upsample])"
   ]
  },
  {
   "cell_type": "code",
   "execution_count": 6,
   "id": "a4236a09",
   "metadata": {},
   "outputs": [],
   "source": [
    "from sklearn.linear_model import LogisticRegression\n",
    "from sklearn.model_selection import train_test_split\n",
    "from sklearn.model_selection import cross_val_score\n",
    "from sklearn.metrics import confusion_matrix\n",
    "from sklearn.svm import SVC\n",
    "from sklearn.metrics import plot_roc_curve\n",
    "from sklearn.ensemble import RandomForestClassifier\n",
    "import matplotlib.pyplot as plt\n",
    "\n",
    "X_data = data_upsampled[df_sbert.columns[1:-3]]\n",
    "y_data = data_upsampled['label']\n",
    "X_train, X_test, y_train, y_test = train_test_split(X_data,\n",
    "                            y_data, stratify=y_data, #keep the same ratio\n",
    "                            test_size=0.1,\n",
    "                            random_state=42)"
   ]
  },
  {
   "cell_type": "code",
   "execution_count": 7,
   "id": "4adf16d0",
   "metadata": {},
   "outputs": [],
   "source": [
    "## lasso - logistics - label - all features"
   ]
  },
  {
   "cell_type": "code",
   "execution_count": 8,
   "id": "7a0e9fe7",
   "metadata": {},
   "outputs": [],
   "source": [
    "lgclf = LogisticRegression(random_state=42, fit_intercept = True, solver = \"liblinear\", penalty =\"l1\").fit(X_train, y_train) "
   ]
  },
  {
   "cell_type": "code",
   "execution_count": 9,
   "id": "e3159c12",
   "metadata": {},
   "outputs": [
    {
     "name": "stdout",
     "output_type": "stream",
     "text": [
      "[0.75531915 0.76595745 0.79787234 0.75531915 0.78494624 0.76344086\n",
      " 0.74193548 0.75268817 0.75268817 0.80645161]\n"
     ]
    }
   ],
   "source": [
    "print(cross_val_score(lgclf, X_train, y_train, cv=10))"
   ]
  },
  {
   "cell_type": "code",
   "execution_count": 10,
   "id": "31e47cd9",
   "metadata": {},
   "outputs": [
    {
     "name": "stdout",
     "output_type": "stream",
     "text": [
      "Accuracy Score: 0.7980769230769231\n"
     ]
    }
   ],
   "source": [
    "print(\"Accuracy Score:\",lgclf.score(X_test, y_test))"
   ]
  },
  {
   "cell_type": "code",
   "execution_count": 11,
   "id": "29d52a5d",
   "metadata": {},
   "outputs": [
    {
     "data": {
      "text/plain": [
       "array([0, 0, 0, 0, 0, 1, 0, 0, 1, 0, 1, 0, 0, 0, 1, 0, 1, 1, 0, 1, 1, 1,\n",
       "       0, 0, 0, 0, 1, 0, 1, 0, 0, 0, 1, 0, 1, 1, 1, 1, 1, 0, 0, 0, 1, 1,\n",
       "       0, 1, 0, 1, 1, 1, 1, 1, 1, 0, 1, 1, 0, 0, 1, 0, 1, 1, 1, 0, 0, 0,\n",
       "       0, 0, 1, 1, 1, 0, 1, 1, 1, 1, 1, 0, 0, 0, 0, 1, 1, 1, 1, 1, 0, 1,\n",
       "       0, 0, 0, 0, 0, 0, 0, 1, 1, 0, 1, 0, 1, 1, 1, 1])"
      ]
     },
     "execution_count": 11,
     "metadata": {},
     "output_type": "execute_result"
    }
   ],
   "source": [
    "lgclf.predict(X_test)"
   ]
  },
  {
   "cell_type": "code",
   "execution_count": 12,
   "id": "4823a763",
   "metadata": {},
   "outputs": [
    {
     "data": {
      "text/plain": [
       "array([[41, 11],\n",
       "       [10, 42]])"
      ]
     },
     "execution_count": 12,
     "metadata": {},
     "output_type": "execute_result"
    }
   ],
   "source": [
    "from sklearn.metrics import confusion_matrix\n",
    "confusion_matrix(y_test, lgclf.predict(X_test))"
   ]
  },
  {
   "cell_type": "code",
   "execution_count": 13,
   "id": "f844dfb9",
   "metadata": {},
   "outputs": [
    {
     "name": "stderr",
     "output_type": "stream",
     "text": [
      "/opt/anaconda3/lib/python3.8/site-packages/sklearn/utils/deprecation.py:87: FutureWarning: Function plot_roc_curve is deprecated; Function :func:`plot_roc_curve` is deprecated in 1.0 and will be removed in 1.2. Use one of the class methods: :meth:`sklearn.metric.RocCurveDisplay.from_predictions` or :meth:`sklearn.metric.RocCurveDisplay.from_estimator`.\n",
      "  warnings.warn(msg, category=FutureWarning)\n"
     ]
    },
    {
     "data": {
      "image/png": "[encoded data removed]",
      "text/plain": [
       "<Figure size 432x288 with 1 Axes>"
      ]
     },
     "metadata": {
      "needs_background": "light"
     },
     "output_type": "display_data"
    }
   ],
   "source": [
    "from sklearn.svm import SVC\n",
    "from sklearn.metrics import plot_roc_curve\n",
    "from sklearn.ensemble import RandomForestClassifier\n",
    "import matplotlib.pyplot as plt\n",
    "\n",
    "rfc_disp = plot_roc_curve(lgclf, X_test, y_test)\n",
    "plt.show()"
   ]
  },
  {
   "cell_type": "code",
   "execution_count": null,
   "id": "2b8bf692",
   "metadata": {},
   "outputs": [],
   "source": []
  },
  {
   "cell_type": "code",
   "execution_count": 14,
   "id": "e4e3df1e",
   "metadata": {},
   "outputs": [],
   "source": [
    "## Ridge - logistics - label - all features"
   ]
  },
  {
   "cell_type": "code",
   "execution_count": 15,
   "id": "309c1884",
   "metadata": {},
   "outputs": [],
   "source": [
    "rgclf = LogisticRegression(random_state=42, fit_intercept = True, penalty =\"l2\").fit(X_train, y_train)"
   ]
  },
  {
   "cell_type": "code",
   "execution_count": 16,
   "id": "66ab3e55",
   "metadata": {},
   "outputs": [
    {
     "name": "stdout",
     "output_type": "stream",
     "text": [
      "[0.79787234 0.81914894 0.84042553 0.75531915 0.82795699 0.79569892\n",
      " 0.72043011 0.76344086 0.76344086 0.79569892]\n"
     ]
    }
   ],
   "source": [
    "print(cross_val_score(rgclf, X_train, y_train, cv=10))"
   ]
  },
  {
   "cell_type": "code",
   "execution_count": 17,
   "id": "e45d1bc8",
   "metadata": {},
   "outputs": [
    {
     "name": "stdout",
     "output_type": "stream",
     "text": [
      "Accuracy Score: 0.7980769230769231\n"
     ]
    }
   ],
   "source": [
    "print(\"Accuracy Score:\",rgclf.score(X_test, y_test))"
   ]
  },
  {
   "cell_type": "code",
   "execution_count": 18,
   "id": "f912c5f2",
   "metadata": {},
   "outputs": [
    {
     "data": {
      "text/plain": [
       "array([[41, 11],\n",
       "       [10, 42]])"
      ]
     },
     "execution_count": 18,
     "metadata": {},
     "output_type": "execute_result"
    }
   ],
   "source": [
    "from sklearn.metrics import confusion_matrix\n",
    "confusion_matrix(y_test, rgclf.predict(X_test))"
   ]
  },
  {
   "cell_type": "code",
   "execution_count": 19,
   "id": "99c4c724",
   "metadata": {},
   "outputs": [
    {
     "name": "stderr",
     "output_type": "stream",
     "text": [
      "/opt/anaconda3/lib/python3.8/site-packages/sklearn/utils/deprecation.py:87: FutureWarning: Function plot_roc_curve is deprecated; Function :func:`plot_roc_curve` is deprecated in 1.0 and will be removed in 1.2. Use one of the class methods: :meth:`sklearn.metric.RocCurveDisplay.from_predictions` or :meth:`sklearn.metric.RocCurveDisplay.from_estimator`.\n",
      "  warnings.warn(msg, category=FutureWarning)\n"
     ]
    },
    {
     "data": {
      "image/png": "[encoded data removed]",
      "text/plain": [
       "<Figure size 432x288 with 1 Axes>"
      ]
     },
     "metadata": {
      "needs_background": "light"
     },
     "output_type": "display_data"
    }
   ],
   "source": [
    "from sklearn.svm import SVC\n",
    "from sklearn.metrics import plot_roc_curve\n",
    "from sklearn.ensemble import RandomForestClassifier\n",
    "import matplotlib.pyplot as plt\n",
    "\n",
    "rfc_disp = plot_roc_curve(rgclf, X_test, y_test)\n",
    "plt.show()"
   ]
  },
  {
   "cell_type": "code",
   "execution_count": null,
   "id": "ed5f71be",
   "metadata": {},
   "outputs": [],
   "source": []
  },
  {
   "cell_type": "code",
   "execution_count": 20,
   "id": "7176be93",
   "metadata": {},
   "outputs": [],
   "source": [
    "from sklearn.linear_model import LinearRegression"
   ]
  },
  {
   "cell_type": "code",
   "execution_count": 21,
   "id": "988359d4",
   "metadata": {},
   "outputs": [],
   "source": [
    "X_data = data_upsampled[df_sbert.columns[1:-3]]\n",
    "y_data = data_upsampled['rating']\n",
    "X_train, X_test, y_train, y_test = train_test_split(X_data,\n",
    "                            y_data,\n",
    "                            test_size=0.1,\n",
    "                            random_state=42)"
   ]
  },
  {
   "cell_type": "code",
   "execution_count": 22,
   "id": "65c18f9e",
   "metadata": {},
   "outputs": [],
   "source": [
    "olsclf = LinearRegression(fit_intercept = True).fit(X_train, y_train)"
   ]
  },
  {
   "cell_type": "code",
   "execution_count": 23,
   "id": "066e00d6",
   "metadata": {},
   "outputs": [
    {
     "data": {
      "text/plain": [
       "293.85569564196516"
      ]
     },
     "execution_count": 23,
     "metadata": {},
     "output_type": "execute_result"
    }
   ],
   "source": [
    "from sklearn.metrics import mean_squared_error\n",
    "mean_squared_error(y_test, olsclf.predict(X_test))"
   ]
  },
  {
   "cell_type": "code",
   "execution_count": 24,
   "id": "a62f7233",
   "metadata": {},
   "outputs": [
    {
     "data": {
      "text/plain": [
       "array([ -1.93480601,  -6.64600776, -26.62048404,  16.01085837,\n",
       "        10.6034878 , -10.56471615, -18.05120705,  37.9691135 ,\n",
       "       -28.72334193,   2.77885524,   9.69717526,  -4.47215168,\n",
       "        57.64065048, -23.23588813,  -7.09034733, -10.64718949,\n",
       "       -22.58874337, -20.144806  ,  -4.4797539 , -10.32457146,\n",
       "        18.23949945,  10.21751131,   6.7304526 ,  -9.2118626 ,\n",
       "        34.29144503,  35.42228152,  36.4350731 ,  -6.44170974,\n",
       "        -5.56471593,   5.61291575,  38.10815138,  -4.74858399,\n",
       "        -5.90888236,  -2.84119516,   0.8796413 ,   7.25782269,\n",
       "       -31.51864161,   3.69267876,  15.08343566, -10.13017206,\n",
       "       -12.28596971,  32.92177251, -28.20930493, -15.54250217,\n",
       "        26.4821144 , -20.9257711 , -34.07140633,  -8.84821339,\n",
       "       -23.94970734,   8.09294301, -14.09178476,  39.76773975,\n",
       "        16.66966186, -16.19172633, -13.41844669,   7.09195747,\n",
       "       -21.64847883, -20.31593625, -14.33358459,  -2.2614642 ,\n",
       "       -12.97442943,  17.93375356,  40.11008934,  -7.89948552,\n",
       "       -25.27443421, -14.33358459, -23.2460912 ,  30.43223992,\n",
       "        15.72415131,  -3.82623752,  36.75658693,   7.98442803,\n",
       "        28.32858907,  14.1219201 ,  37.06703211,  -7.89948552,\n",
       "       -10.15194516,  12.50123568,   3.49336701, -24.96708256,\n",
       "        19.52806174, -11.33228196, -17.01070785,  59.76740896,\n",
       "        -5.90888236,  17.34176638,  12.28690982, -11.05750229,\n",
       "       -37.82432364,  -4.11663018, -16.11609142,  24.0337448 ,\n",
       "       -28.10401867,  -4.6177293 , -30.59261248,  21.38401234,\n",
       "        26.15949772,  -4.66617337,   0.51685187,   9.48596892,\n",
       "        -5.3972257 , -25.55242501,  -0.66862715,  27.80659637])"
      ]
     },
     "execution_count": 24,
     "metadata": {},
     "output_type": "execute_result"
    }
   ],
   "source": [
    "olsclf.predict(X_test)"
   ]
  },
  {
   "cell_type": "code",
   "execution_count": 25,
   "id": "08dc3079",
   "metadata": {},
   "outputs": [
    {
     "data": {
      "text/plain": [
       "(0.6790530006873359, 2.32435769058969e-15)"
      ]
     },
     "execution_count": 25,
     "metadata": {},
     "output_type": "execute_result"
    }
   ],
   "source": [
    "import numpy as np\n",
    "import scipy.stats\n",
    "scipy.stats.pearsonr(olsclf.predict(X_test), y_test)"
   ]
  },
  {
   "cell_type": "code",
   "execution_count": 26,
   "id": "f8e6ca27",
   "metadata": {},
   "outputs": [
    {
     "data": {
      "image/png": "[encoded data removed]",
      "text/plain": [
       "<Figure size 432x288 with 1 Axes>"
      ]
     },
     "metadata": {
      "needs_background": "light"
     },
     "output_type": "display_data"
    }
   ],
   "source": [
    "# Visualising the Test set results\n",
    "theta = np.polyfit(y_test, olsclf.predict(X_test), 1)\n",
    "y_line = theta[1] + theta[0] * y_test\n",
    "plt.scatter(y_test, olsclf.predict(X_test), color = 'blue')\n",
    "plt.plot(y_test, y_line, 'black')\n",
    "plt.title('Apology mturk_rating')\n",
    "plt.xlabel('true mturk_rating')\n",
    "plt.ylabel('ols regression predicted mturk_rating')\n",
    "plt.show()"
   ]
  },
  {
   "cell_type": "code",
   "execution_count": 27,
   "id": "4dfef4c1",
   "metadata": {},
   "outputs": [],
   "source": [
    "def match():\n",
    "    no_match = 0\n",
    "    for i in range(len(y_test)):\n",
    "        if y_test.to_list()[i] * olsclf.predict(X_test)[i] < 0:\n",
    "            no_match = no_match + 1\n",
    "    accuracy = 1- (no_match/len(y_test))\n",
    "    print(accuracy)\n",
    "            "
   ]
  },
  {
   "cell_type": "code",
   "execution_count": 28,
   "id": "3951a2a4",
   "metadata": {},
   "outputs": [
    {
     "name": "stdout",
     "output_type": "stream",
     "text": [
      "0.8557692307692308\n"
     ]
    }
   ],
   "source": [
    "match()"
   ]
  },
  {
   "cell_type": "code",
   "execution_count": 29,
   "id": "91fdcca8",
   "metadata": {},
   "outputs": [],
   "source": [
    "from sklearn.linear_model import Ridge, RidgeCV, Lasso, LassoCV"
   ]
  },
  {
   "cell_type": "code",
   "execution_count": 30,
   "id": "3a0c0cb9",
   "metadata": {},
   "outputs": [
    {
     "data": {
      "text/plain": [
       "array([  2.35736893,  -5.00302569, -26.24755924,  18.33989629,\n",
       "        13.69253476,  -8.85086735, -11.9053653 ,  38.08034735,\n",
       "       -25.74540158,   4.6182506 ,  14.97347247,  -4.68680979,\n",
       "        54.71613257, -22.5958287 ,  -7.95426976, -10.62798419,\n",
       "       -22.73349781, -19.21298054,  -4.55433313, -10.42635331,\n",
       "        16.65585852,   9.40845167,   9.595016  ,  -6.99217823,\n",
       "        30.77228219,  35.33278431,  35.52836598,  -5.40296867,\n",
       "        -4.86861364,   4.61671774,  36.84057023,  -4.70901024,\n",
       "        -5.95809452,  -2.07167422,   2.17590876,   8.22120597,\n",
       "       -29.97831879,   4.40566611,  14.93251217,  -9.63927092,\n",
       "        -9.54026109,  31.35029444, -27.72545336, -15.02331899,\n",
       "        27.60555234, -20.98812062, -34.88613889,  -9.12430034,\n",
       "       -25.30685963,   2.91075758, -13.86913364,  37.39943233,\n",
       "        13.28512207,  -9.21741896, -13.42012757,   7.71071262,\n",
       "       -21.52922508, -20.47340449, -13.84688985,  -2.63725316,\n",
       "       -14.29497216,  15.8176292 ,  40.94848419,  -8.05620074,\n",
       "       -25.7297556 , -13.84688985, -19.08812733,  31.40531805,\n",
       "        18.67500093,  -1.67422767,  35.27848401,   8.42197302,\n",
       "        23.9697979 ,  17.52402184,  40.1914998 ,  -8.05620074,\n",
       "       -10.05676746,  12.02557304,   4.53006533, -22.35311705,\n",
       "        18.85005684, -10.8025367 , -17.57116706,  63.09700664,\n",
       "        -5.95809452,  14.50847665,  12.49123436,  -5.1673043 ,\n",
       "       -37.28959257,  -5.090497  , -17.12207894,  27.21329802,\n",
       "       -27.76277795,  -4.69189576, -29.46393472,  20.60881919,\n",
       "        24.40683105,  -5.01907747,   0.67208548,   7.35339157,\n",
       "        -5.11169713, -24.74039213,  -0.47150156,  27.455378  ])"
      ]
     },
     "execution_count": 30,
     "metadata": {},
     "output_type": "execute_result"
    }
   ],
   "source": [
    "rg1 = Ridge(alpha=0.001).fit(X_train, y_train)\n",
    "rg1.predict(X_test)"
   ]
  },
  {
   "cell_type": "code",
   "execution_count": 31,
   "id": "96406fd4",
   "metadata": {},
   "outputs": [
    {
     "data": {
      "text/plain": [
       "266.6840799023011"
      ]
     },
     "execution_count": 31,
     "metadata": {},
     "output_type": "execute_result"
    }
   ],
   "source": [
    "mean_squared_error(y_test, rg1.predict(X_test))"
   ]
  },
  {
   "cell_type": "code",
   "execution_count": 32,
   "id": "f2dedeb0",
   "metadata": {},
   "outputs": [
    {
     "data": {
      "text/plain": [
       "(0.703767557024503, 7.946567465086885e-17)"
      ]
     },
     "execution_count": 32,
     "metadata": {},
     "output_type": "execute_result"
    }
   ],
   "source": [
    "import numpy as np\n",
    "import scipy.stats\n",
    "scipy.stats.pearsonr( rg1.predict(X_test), y_test)"
   ]
  },
  {
   "cell_type": "code",
   "execution_count": 33,
   "id": "19d69121",
   "metadata": {},
   "outputs": [
    {
     "data": {
      "image/png": "[encoded data removed]",
      "text/plain": [
       "<Figure size 432x288 with 1 Axes>"
      ]
     },
     "metadata": {
      "needs_background": "light"
     },
     "output_type": "display_data"
    }
   ],
   "source": [
    "# Visualising the Test set results\n",
    "theta = np.polyfit(y_test, rg1.predict(X_test), 1)\n",
    "y_line = theta[1] + theta[0] * y_test\n",
    "plt.scatter(y_test, rg1.predict(X_test), color = 'red')\n",
    "plt.plot(y_test, y_line, 'black')\n",
    "plt.title('Apology mturk_rating')\n",
    "plt.xlabel('true mturk_rating')\n",
    "plt.ylabel('Ridge regression predicted mturk_rating')\n",
    "plt.show()"
   ]
  },
  {
   "cell_type": "code",
   "execution_count": 34,
   "id": "8c91a53c",
   "metadata": {},
   "outputs": [],
   "source": [
    "def match():\n",
    "    no_match = 0\n",
    "    for i in range(len(y_test)):\n",
    "        if y_test.to_list()[i] * rg1.predict(X_test)[i] < 0:\n",
    "            no_match = no_match + 1\n",
    "    accuracy = 1- (no_match/len(y_test))\n",
    "    print(accuracy)"
   ]
  },
  {
   "cell_type": "code",
   "execution_count": 35,
   "id": "9c234599",
   "metadata": {},
   "outputs": [
    {
     "name": "stdout",
     "output_type": "stream",
     "text": [
      "0.8653846153846154\n"
     ]
    }
   ],
   "source": [
    "match()"
   ]
  },
  {
   "cell_type": "code",
   "execution_count": 36,
   "id": "d1d473b0",
   "metadata": {},
   "outputs": [
    {
     "data": {
      "text/plain": [
       "array([ 11.92537901,   0.68844011, -22.15449044,  23.82649785,\n",
       "        16.37611904,  -7.81008169,  -0.50091556,  37.01073501,\n",
       "       -20.86558555,   6.65165667,  21.15300333,  -4.96148448,\n",
       "        40.64197293, -21.61331061, -18.02048143, -13.85536952,\n",
       "       -20.37764539, -16.7486058 ,   0.28525069,  -9.85790754,\n",
       "        12.51979066,   9.99910424,  18.33121651,  -1.12477051,\n",
       "        16.17533994,  35.69107092,  24.82429092,  -3.44159844,\n",
       "        -1.83461571,   0.19400574,  28.85966222,  -4.16207946,\n",
       "        -7.33109517,  -1.89551162,   4.55713162,  15.82825646,\n",
       "       -24.1891657 ,   3.85864146,  16.82772982, -10.3990305 ,\n",
       "        -1.21154779,  25.37468872, -26.94964349, -10.93594863,\n",
       "        24.55817942, -17.55596824, -30.75939551,  -9.34339156,\n",
       "       -24.46370743, -10.66589439, -14.45736673,  30.72187262,\n",
       "         1.93589501,   9.02419329, -13.22568345,  13.93381613,\n",
       "       -22.30144275, -19.0092118 , -11.39634148,  -2.17647129,\n",
       "       -12.75715603,  10.0973118 ,  40.02885717,  -6.32041082,\n",
       "       -23.46744608, -11.39634148, -12.10635458,  30.43635438,\n",
       "        21.03358527,   2.834452  ,  28.02262803,   6.85513108,\n",
       "        17.03344491,  23.41741227,  47.69521519,  -6.32041082,\n",
       "       -10.87813806,   5.96039161,   7.05986993, -14.15028952,\n",
       "        14.92565094, -11.47990625, -17.72817307,  68.56251837,\n",
       "        -7.33109517,  11.92806572,   9.29936886,   7.88228996,\n",
       "       -36.28694321,  -0.99550093, -19.31737476,  37.48275468,\n",
       "       -26.00471147,  -4.41627455, -28.47581717,  19.73058489,\n",
       "        26.59436239,  -5.34713318,   2.9342113 ,  12.36393377,\n",
       "        -4.49719908, -22.46751829,   1.27461684,  26.17290061])"
      ]
     },
     "execution_count": 36,
     "metadata": {},
     "output_type": "execute_result"
    }
   ],
   "source": [
    "lo1 = Lasso(alpha=0.001).fit(X_train, y_train)\n",
    "lo1.predict(X_test)"
   ]
  },
  {
   "cell_type": "code",
   "execution_count": 37,
   "id": "0e2564b3",
   "metadata": {},
   "outputs": [
    {
     "data": {
      "text/plain": [
       "209.40472792431981"
      ]
     },
     "execution_count": 37,
     "metadata": {},
     "output_type": "execute_result"
    }
   ],
   "source": [
    "mean_squared_error(y_test, lo1.predict(X_test))"
   ]
  },
  {
   "cell_type": "code",
   "execution_count": 38,
   "id": "d3f48b05",
   "metadata": {},
   "outputs": [
    {
     "data": {
      "text/plain": [
       "(0.7588341935812265, 1.0422606075083437e-20)"
      ]
     },
     "execution_count": 38,
     "metadata": {},
     "output_type": "execute_result"
    }
   ],
   "source": [
    "#correlation and pvalue\n",
    "import numpy as np\n",
    "import scipy.stats\n",
    "scipy.stats.pearsonr(lo1.predict(X_test), y_test)"
   ]
  },
  {
   "cell_type": "code",
   "execution_count": 39,
   "id": "4c64df9a",
   "metadata": {},
   "outputs": [
    {
     "data": {
      "image/png": "[encoded data removed]",
      "text/plain": [
       "<Figure size 432x288 with 1 Axes>"
      ]
     },
     "metadata": {
      "needs_background": "light"
     },
     "output_type": "display_data"
    }
   ],
   "source": [
    "# Visualising the Test set results\n",
    "theta = np.polyfit(y_test, lo1.predict(X_test), 1)\n",
    "y_line = theta[1] + theta[0] * y_test\n",
    "plt.scatter(y_test, lo1.predict(X_test), color = 'pink')\n",
    "plt.plot(y_test, y_line, 'black')\n",
    "plt.title('Apology mturk_rating')\n",
    "plt.xlabel('true mturk_rating')\n",
    "plt.ylabel('lasso regression predicted mturk_rating')\n",
    "plt.show()"
   ]
  },
  {
   "cell_type": "code",
   "execution_count": 40,
   "id": "fdf43675",
   "metadata": {},
   "outputs": [],
   "source": [
    "def match():\n",
    "    no_match = 0\n",
    "    for i in range(len(y_test)):\n",
    "        if y_test.to_list()[i] * lo1.predict(X_test)[i] < 0:\n",
    "            no_match = no_match + 1\n",
    "    accuracy = 1- (no_match/len(y_test))\n",
    "    print(accuracy)"
   ]
  },
  {
   "cell_type": "code",
   "execution_count": 41,
   "id": "b4bb375c",
   "metadata": {},
   "outputs": [
    {
     "name": "stdout",
     "output_type": "stream",
     "text": [
      "0.875\n"
     ]
    }
   ],
   "source": [
    "match()"
   ]
  },
  {
   "cell_type": "code",
   "execution_count": null,
   "id": "cf2200d3",
   "metadata": {},
   "outputs": [],
   "source": []
  },
  {
   "cell_type": "markdown",
   "id": "3e4aea5e",
   "metadata": {},
   "source": [
    "### Try dimension reduction and use the first and second feature that explain the most variance"
   ]
  },
  {
   "cell_type": "code",
   "execution_count": null,
   "id": "e99d902b",
   "metadata": {},
   "outputs": [],
   "source": [
    "# dimension reduction"
   ]
  },
  {
   "cell_type": "code",
   "execution_count": 46,
   "id": "59b0d100",
   "metadata": {},
   "outputs": [],
   "source": [
    "import sklearn.decomposition\n",
    "import sklearn.manifold"
   ]
  },
  {
   "cell_type": "code",
   "execution_count": 47,
   "id": "81fa5772",
   "metadata": {},
   "outputs": [],
   "source": [
    "X_data = df_sbert[df_sbert.columns[1:-3]]"
   ]
  },
  {
   "cell_type": "code",
   "execution_count": 48,
   "id": "3fc653a8",
   "metadata": {},
   "outputs": [
    {
     "name": "stderr",
     "output_type": "stream",
     "text": [
      "/opt/anaconda3/lib/python3.8/site-packages/sklearn/manifold/_t_sne.py:780: FutureWarning: The default initialization in TSNE will change from 'random' to 'pca' in 1.2.\n",
      "  warnings.warn(\n",
      "/opt/anaconda3/lib/python3.8/site-packages/sklearn/manifold/_t_sne.py:790: FutureWarning: The default learning rate in TSNE will change from 200.0 to 'auto' in 1.2.\n",
      "  warnings.warn(\n"
     ]
    }
   ],
   "source": [
    "pcaWords_hero = sklearn.decomposition.PCA(n_components = 50).fit(X_data)\n",
    "reducedPCA_data = pcaWords_hero.transform(X_data)\n",
    "tsneWords = sklearn.manifold.TSNE(n_components = 2).fit_transform(reducedPCA_data)"
   ]
  },
  {
   "cell_type": "code",
   "execution_count": 49,
   "id": "3a37d79d",
   "metadata": {},
   "outputs": [],
   "source": [
    "df_component = pd.DataFrame(tsneWords, columns = [\"c1\", \"c2\"])\n",
    "df_component[\"label\"]  = df_sbert.label.to_list()"
   ]
  },
  {
   "cell_type": "code",
   "execution_count": 50,
   "id": "7b2f8a6f",
   "metadata": {},
   "outputs": [],
   "source": [
    "df_component[\"rating\"]  = df_sbert.rating.to_list()"
   ]
  },
  {
   "cell_type": "code",
   "execution_count": 51,
   "id": "ea8ae2d1",
   "metadata": {},
   "outputs": [
    {
     "data": {
      "text/html": [
       "<div>\n",
       "<style scoped>\n",
       "    .dataframe tbody tr th:only-of-type {\n",
       "        vertical-align: middle;\n",
       "    }\n",
       "\n",
       "    .dataframe tbody tr th {\n",
       "        vertical-align: top;\n",
       "    }\n",
       "\n",
       "    .dataframe thead th {\n",
       "        text-align: right;\n",
       "    }\n",
       "</style>\n",
       "<table border=\"1\" class=\"dataframe\">\n",
       "  <thead>\n",
       "    <tr style=\"text-align: right;\">\n",
       "      <th></th>\n",
       "      <th>c1</th>\n",
       "      <th>c2</th>\n",
       "      <th>label</th>\n",
       "      <th>rating</th>\n",
       "    </tr>\n",
       "  </thead>\n",
       "  <tbody>\n",
       "    <tr>\n",
       "      <th>0</th>\n",
       "      <td>10.179790</td>\n",
       "      <td>-6.486329</td>\n",
       "      <td>1</td>\n",
       "      <td>20.333333</td>\n",
       "    </tr>\n",
       "    <tr>\n",
       "      <th>1</th>\n",
       "      <td>-6.272509</td>\n",
       "      <td>21.583088</td>\n",
       "      <td>0</td>\n",
       "      <td>-14.000000</td>\n",
       "    </tr>\n",
       "    <tr>\n",
       "      <th>2</th>\n",
       "      <td>2.072599</td>\n",
       "      <td>-6.621886</td>\n",
       "      <td>1</td>\n",
       "      <td>27.500000</td>\n",
       "    </tr>\n",
       "    <tr>\n",
       "      <th>3</th>\n",
       "      <td>4.251818</td>\n",
       "      <td>-3.971762</td>\n",
       "      <td>1</td>\n",
       "      <td>30.000000</td>\n",
       "    </tr>\n",
       "    <tr>\n",
       "      <th>4</th>\n",
       "      <td>-0.158930</td>\n",
       "      <td>8.648897</td>\n",
       "      <td>1</td>\n",
       "      <td>23.750000</td>\n",
       "    </tr>\n",
       "    <tr>\n",
       "      <th>...</th>\n",
       "      <td>...</td>\n",
       "      <td>...</td>\n",
       "      <td>...</td>\n",
       "      <td>...</td>\n",
       "    </tr>\n",
       "    <tr>\n",
       "      <th>775</th>\n",
       "      <td>-4.519654</td>\n",
       "      <td>13.719292</td>\n",
       "      <td>1</td>\n",
       "      <td>28.333333</td>\n",
       "    </tr>\n",
       "    <tr>\n",
       "      <th>776</th>\n",
       "      <td>22.926817</td>\n",
       "      <td>4.966261</td>\n",
       "      <td>1</td>\n",
       "      <td>10.857143</td>\n",
       "    </tr>\n",
       "    <tr>\n",
       "      <th>777</th>\n",
       "      <td>8.404155</td>\n",
       "      <td>14.338411</td>\n",
       "      <td>1</td>\n",
       "      <td>26.272727</td>\n",
       "    </tr>\n",
       "    <tr>\n",
       "      <th>778</th>\n",
       "      <td>25.902931</td>\n",
       "      <td>8.999016</td>\n",
       "      <td>1</td>\n",
       "      <td>19.500000</td>\n",
       "    </tr>\n",
       "    <tr>\n",
       "      <th>779</th>\n",
       "      <td>13.558635</td>\n",
       "      <td>-8.296590</td>\n",
       "      <td>1</td>\n",
       "      <td>21.400000</td>\n",
       "    </tr>\n",
       "  </tbody>\n",
       "</table>\n",
       "<p>780 rows × 4 columns</p>\n",
       "</div>"
      ],
      "text/plain": [
       "            c1         c2  label     rating\n",
       "0    10.179790  -6.486329      1  20.333333\n",
       "1    -6.272509  21.583088      0 -14.000000\n",
       "2     2.072599  -6.621886      1  27.500000\n",
       "3     4.251818  -3.971762      1  30.000000\n",
       "4    -0.158930   8.648897      1  23.750000\n",
       "..         ...        ...    ...        ...\n",
       "775  -4.519654  13.719292      1  28.333333\n",
       "776  22.926817   4.966261      1  10.857143\n",
       "777   8.404155  14.338411      1  26.272727\n",
       "778  25.902931   8.999016      1  19.500000\n",
       "779  13.558635  -8.296590      1  21.400000\n",
       "\n",
       "[780 rows x 4 columns]"
      ]
     },
     "execution_count": 51,
     "metadata": {},
     "output_type": "execute_result"
    }
   ],
   "source": [
    "df_component"
   ]
  },
  {
   "cell_type": "code",
   "execution_count": 52,
   "id": "0ef2ec56",
   "metadata": {},
   "outputs": [],
   "source": [
    "df_top_pos = df_component[df_component[\"label\"] == 1]\n",
    "df_top_neg = df_component[df_component[\"label\"] == 0]"
   ]
  },
  {
   "cell_type": "code",
   "execution_count": 53,
   "id": "c7ffab95",
   "metadata": {},
   "outputs": [
    {
     "name": "stdout",
     "output_type": "stream",
     "text": [
      "(519, 4)\n"
     ]
    }
   ],
   "source": [
    "from sklearn.utils import resample\n",
    "neg_upsample = resample(df_top_neg,\n",
    "             replace=True,\n",
    "             n_samples=len(df_top_pos),\n",
    "             random_state=42)\n",
    "\n",
    "print(neg_upsample.shape)"
   ]
  },
  {
   "cell_type": "code",
   "execution_count": 54,
   "id": "9878d63f",
   "metadata": {},
   "outputs": [],
   "source": [
    "data_upsampled = pd.concat([df_top_pos, neg_upsample])"
   ]
  },
  {
   "cell_type": "code",
   "execution_count": 55,
   "id": "6897438a",
   "metadata": {},
   "outputs": [],
   "source": [
    "X_data = data_upsampled[[\"c1\",\"c2\"]]\n",
    "y_data = data_upsampled['label']\n",
    "X_train, X_test, y_train, y_test = train_test_split(X_data,\n",
    "                            y_data, stratify=y_data, #keep the same ratio\n",
    "                            test_size=0.1,\n",
    "                            random_state=42)"
   ]
  },
  {
   "cell_type": "code",
   "execution_count": 56,
   "id": "551d7e46",
   "metadata": {},
   "outputs": [],
   "source": [
    "lgclf = LogisticRegression(random_state=42, fit_intercept = True, solver = \"liblinear\").fit(X_train, y_train) "
   ]
  },
  {
   "cell_type": "code",
   "execution_count": null,
   "id": "968a253f",
   "metadata": {},
   "outputs": [],
   "source": [
    "#cross validation score (10-fold)"
   ]
  },
  {
   "cell_type": "code",
   "execution_count": 57,
   "id": "fed6fcee",
   "metadata": {},
   "outputs": [
    {
     "name": "stdout",
     "output_type": "stream",
     "text": [
      "[0.56382979 0.53191489 0.56382979 0.58510638 0.46236559 0.60215054\n",
      " 0.49462366 0.53763441 0.59139785 0.49462366]\n"
     ]
    }
   ],
   "source": [
    "print(cross_val_score(lgclf, X_train, y_train, cv=10))"
   ]
  },
  {
   "cell_type": "code",
   "execution_count": null,
   "id": "73379e52",
   "metadata": {},
   "outputs": [],
   "source": [
    "#model peformance on testing samples"
   ]
  },
  {
   "cell_type": "code",
   "execution_count": 58,
   "id": "748d2b9e",
   "metadata": {},
   "outputs": [
    {
     "name": "stdout",
     "output_type": "stream",
     "text": [
      "Accuracy Score: 0.5576923076923077\n"
     ]
    }
   ],
   "source": [
    "print(\"Accuracy Score:\",lgclf.score(X_test, y_test)) # compress information - information loss"
   ]
  },
  {
   "cell_type": "code",
   "execution_count": 59,
   "id": "0ecd8135",
   "metadata": {},
   "outputs": [
    {
     "data": {
      "text/plain": [
       "array([[31, 21],\n",
       "       [25, 27]])"
      ]
     },
     "execution_count": 59,
     "metadata": {},
     "output_type": "execute_result"
    }
   ],
   "source": [
    "from sklearn.metrics import confusion_matrix\n",
    "confusion_matrix(y_test, lgclf.predict(X_test))"
   ]
  },
  {
   "cell_type": "code",
   "execution_count": 60,
   "id": "61758137",
   "metadata": {},
   "outputs": [
    {
     "name": "stderr",
     "output_type": "stream",
     "text": [
      "/opt/anaconda3/lib/python3.8/site-packages/sklearn/utils/deprecation.py:87: FutureWarning: Function plot_roc_curve is deprecated; Function :func:`plot_roc_curve` is deprecated in 1.0 and will be removed in 1.2. Use one of the class methods: :meth:`sklearn.metric.RocCurveDisplay.from_predictions` or :meth:`sklearn.metric.RocCurveDisplay.from_estimator`.\n",
      "  warnings.warn(msg, category=FutureWarning)\n"
     ]
    },
    {
     "data": {
      "image/png": "[encoded data removed]",
      "text/plain": [
       "<Figure size 432x288 with 1 Axes>"
      ]
     },
     "metadata": {
      "needs_background": "light"
     },
     "output_type": "display_data"
    }
   ],
   "source": [
    "from sklearn.svm import SVC\n",
    "from sklearn.metrics import plot_roc_curve\n",
    "from sklearn.ensemble import RandomForestClassifier\n",
    "import matplotlib.pyplot as plt\n",
    "\n",
    "rfc_disp = plot_roc_curve(lgclf, X_test, y_test)\n",
    "plt.show()"
   ]
  },
  {
   "cell_type": "code",
   "execution_count": 61,
   "id": "6d76a121",
   "metadata": {},
   "outputs": [],
   "source": [
    "X_data = data_upsampled[[\"c1\",\"c2\"]]\n",
    "y_data = data_upsampled['rating']\n",
    "X_train, X_test, y_train, y_test = train_test_split(X_data,\n",
    "                            y_data,\n",
    "                            test_size=0.1,\n",
    "                            random_state=42)"
   ]
  },
  {
   "cell_type": "code",
   "execution_count": 62,
   "id": "ede0d23a",
   "metadata": {},
   "outputs": [],
   "source": [
    "lrclf = LinearRegression(fit_intercept = True).fit(X_train, y_train)"
   ]
  },
  {
   "cell_type": "code",
   "execution_count": 63,
   "id": "8cdaf53b",
   "metadata": {},
   "outputs": [
    {
     "data": {
      "text/plain": [
       "458.505531862629"
      ]
     },
     "execution_count": 63,
     "metadata": {},
     "output_type": "execute_result"
    }
   ],
   "source": [
    "mean_squared_error(y_test, lrclf.predict(X_test))"
   ]
  },
  {
   "cell_type": "code",
   "execution_count": 64,
   "id": "a0804cfb",
   "metadata": {},
   "outputs": [
    {
     "data": {
      "text/plain": [
       "(0.15948631316675468, 0.10584393306079717)"
      ]
     },
     "execution_count": 64,
     "metadata": {},
     "output_type": "execute_result"
    }
   ],
   "source": [
    "import numpy as np\n",
    "import scipy.stats\n",
    "scipy.stats.pearsonr(lrclf.predict(X_test), y_test)"
   ]
  },
  {
   "cell_type": "code",
   "execution_count": 65,
   "id": "1f2b0a11",
   "metadata": {},
   "outputs": [
    {
     "data": {
      "image/png": "[encoded data removed]",
      "text/plain": [
       "<Figure size 432x288 with 1 Axes>"
      ]
     },
     "metadata": {
      "needs_background": "light"
     },
     "output_type": "display_data"
    }
   ],
   "source": [
    "# Visualising the Test set results\n",
    "theta = np.polyfit(y_test, lrclf.predict(X_test), 1)\n",
    "y_line = theta[1] + theta[0] * y_test\n",
    "plt.scatter(y_test, lrclf.predict(X_test), color = 'pink')\n",
    "plt.plot(y_test, y_line, 'black')\n",
    "plt.title('Apology mturk_rating')\n",
    "plt.xlabel('true mturk_rating')\n",
    "plt.ylabel('lasso regression predicted mturk_rating')\n",
    "plt.show()"
   ]
  },
  {
   "cell_type": "code",
   "execution_count": 66,
   "id": "1513ba30",
   "metadata": {},
   "outputs": [],
   "source": [
    "def match():\n",
    "    no_match = 0\n",
    "    for i in range(len(y_test)):\n",
    "        if y_test.to_list()[i] * lrclf.predict(X_test)[i] < 0:\n",
    "            no_match = no_match + 1\n",
    "    accuracy = 1- (no_match/len(y_test))\n",
    "    print(accuracy)"
   ]
  },
  {
   "cell_type": "code",
   "execution_count": 67,
   "id": "9aa1e44b",
   "metadata": {},
   "outputs": [
    {
     "name": "stdout",
     "output_type": "stream",
     "text": [
      "0.5480769230769231\n"
     ]
    }
   ],
   "source": [
    "match()"
   ]
  },
  {
   "cell_type": "code",
   "execution_count": null,
   "id": "205bf30f",
   "metadata": {},
   "outputs": [],
   "source": []
  },
  {
   "cell_type": "code",
   "execution_count": null,
   "id": "40ae421e",
   "metadata": {},
   "outputs": [],
   "source": []
  },
  {
   "cell_type": "code",
   "execution_count": null,
   "id": "199819c0",
   "metadata": {},
   "outputs": [],
   "source": []
  },
  {
   "cell_type": "code",
   "execution_count": null,
   "id": "311bc242",
   "metadata": {},
   "outputs": [],
   "source": []
  },
  {
   "cell_type": "code",
   "execution_count": null,
   "id": "48b9fe30",
   "metadata": {},
   "outputs": [],
   "source": []
  },
  {
   "cell_type": "code",
   "execution_count": null,
   "id": "dd8b064f",
   "metadata": {},
   "outputs": [],
   "source": []
  },
  {
   "cell_type": "code",
   "execution_count": null,
   "id": "fb67fc2b",
   "metadata": {},
   "outputs": [],
   "source": []
  },
  {
   "cell_type": "code",
   "execution_count": null,
   "id": "e98ef922",
   "metadata": {},
   "outputs": [],
   "source": []
  },
  {
   "cell_type": "code",
   "execution_count": null,
   "id": "d477e7f8",
   "metadata": {},
   "outputs": [],
   "source": []
  },
  {
   "cell_type": "code",
   "execution_count": null,
   "id": "72812031",
   "metadata": {},
   "outputs": [],
   "source": []
  },
  {
   "cell_type": "code",
   "execution_count": null,
   "id": "938867ad",
   "metadata": {},
   "outputs": [],
   "source": []
  },
  {
   "cell_type": "code",
   "execution_count": null,
   "id": "87c769cc",
   "metadata": {},
   "outputs": [],
   "source": []
  },
  {
   "cell_type": "code",
   "execution_count": null,
   "id": "91e7ab53",
   "metadata": {},
   "outputs": [],
   "source": []
  },
  {
   "cell_type": "code",
   "execution_count": null,
   "id": "b72a154a",
   "metadata": {},
   "outputs": [],
   "source": []
  }
 ],
 "metadata": {
  "kernelspec": {
   "display_name": "Python 3 (ipykernel)",
   "language": "python",
   "name": "python3"
  },
  "language_info": {
   "codemirror_mode": {
    "name": "ipython",
    "version": 3
   },
   "file_extension": ".py",
   "mimetype": "text/x-python",
   "name": "python",
   "nbconvert_exporter": "python",
   "pygments_lexer": "ipython3",
   "version": "3.8.8"
  }
 },
 "nbformat": 4,
 "nbformat_minor": 5
}
