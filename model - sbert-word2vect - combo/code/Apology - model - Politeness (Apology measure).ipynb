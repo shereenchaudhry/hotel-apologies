{
 "cells": [
  {
   "cell_type": "code",
   "execution_count": 1,
   "id": "b807a603",
   "metadata": {},
   "outputs": [],
   "source": [
    "import pandas as pd\n",
    "import matplotlib as mpl\n",
    "from matplotlib import pyplot as plt\n",
    "from pylab import rcParams\n",
    "import networkx as nx\n",
    "from gensim.models import Word2Vec\n",
    "import gensim\n",
    "import numpy as np"
   ]
  },
  {
   "cell_type": "code",
   "execution_count": 2,
   "id": "4c4589c7",
   "metadata": {},
   "outputs": [],
   "source": [
    "df1 = pd.read_csv(\"scaled_combo_features.csv\")"
   ]
  },
  {
   "cell_type": "code",
   "execution_count": 3,
   "id": "e8393f0c",
   "metadata": {},
   "outputs": [
    {
     "data": {
      "text/html": [
       "<div>\n",
       "<style scoped>\n",
       "    .dataframe tbody tr th:only-of-type {\n",
       "        vertical-align: middle;\n",
       "    }\n",
       "\n",
       "    .dataframe tbody tr th {\n",
       "        vertical-align: top;\n",
       "    }\n",
       "\n",
       "    .dataframe thead th {\n",
       "        text-align: right;\n",
       "    }\n",
       "</style>\n",
       "<table border=\"1\" class=\"dataframe\">\n",
       "  <thead>\n",
       "    <tr style=\"text-align: right;\">\n",
       "      <th></th>\n",
       "      <th>fk_grade_level_TA</th>\n",
       "      <th>arousal..ANEW._TA</th>\n",
       "      <th>dominance..ANEW._TA</th>\n",
       "      <th>valence..ANEW._TA</th>\n",
       "      <th>concreteness_TA</th>\n",
       "      <th>familiarity_TA</th>\n",
       "      <th>emotionality_TA</th>\n",
       "      <th>extremity_TA</th>\n",
       "      <th>valence..EL._TA</th>\n",
       "      <th>SENT_TA</th>\n",
       "      <th>...</th>\n",
       "      <th>Apology</th>\n",
       "      <th>Truth.Intensifier</th>\n",
       "      <th>Affirmation</th>\n",
       "      <th>Adverb.Limiter</th>\n",
       "      <th>Conjunction.Start</th>\n",
       "      <th>num_ratings</th>\n",
       "      <th>mturk_rating</th>\n",
       "      <th>apology</th>\n",
       "      <th>Brand</th>\n",
       "      <th>Label</th>\n",
       "    </tr>\n",
       "  </thead>\n",
       "  <tbody>\n",
       "    <tr>\n",
       "      <th>0</th>\n",
       "      <td>-0.102348</td>\n",
       "      <td>0.236255</td>\n",
       "      <td>-0.449482</td>\n",
       "      <td>-0.270067</td>\n",
       "      <td>-0.048619</td>\n",
       "      <td>-0.213981</td>\n",
       "      <td>-0.245553</td>\n",
       "      <td>0.208970</td>\n",
       "      <td>-0.152049</td>\n",
       "      <td>1.158130</td>\n",
       "      <td>...</td>\n",
       "      <td>0.313581</td>\n",
       "      <td>-0.208046</td>\n",
       "      <td>-0.157909</td>\n",
       "      <td>-0.284724</td>\n",
       "      <td>-0.390590</td>\n",
       "      <td>3</td>\n",
       "      <td>20.333333</td>\n",
       "      <td>True</td>\n",
       "      <td>Marriot</td>\n",
       "      <td>1</td>\n",
       "    </tr>\n",
       "    <tr>\n",
       "      <th>1</th>\n",
       "      <td>1.996280</td>\n",
       "      <td>-2.096391</td>\n",
       "      <td>-1.892456</td>\n",
       "      <td>-1.995635</td>\n",
       "      <td>-0.673987</td>\n",
       "      <td>-0.445584</td>\n",
       "      <td>0.017646</td>\n",
       "      <td>1.125400</td>\n",
       "      <td>1.034104</td>\n",
       "      <td>0.265167</td>\n",
       "      <td>...</td>\n",
       "      <td>-1.022993</td>\n",
       "      <td>-0.208046</td>\n",
       "      <td>-0.157909</td>\n",
       "      <td>-0.284724</td>\n",
       "      <td>-0.390590</td>\n",
       "      <td>3</td>\n",
       "      <td>-14.000000</td>\n",
       "      <td>False</td>\n",
       "      <td>Marriot</td>\n",
       "      <td>0</td>\n",
       "    </tr>\n",
       "    <tr>\n",
       "      <th>2</th>\n",
       "      <td>-0.326828</td>\n",
       "      <td>-0.817639</td>\n",
       "      <td>-1.014791</td>\n",
       "      <td>-0.972723</td>\n",
       "      <td>-1.041318</td>\n",
       "      <td>-2.005196</td>\n",
       "      <td>0.161258</td>\n",
       "      <td>0.152088</td>\n",
       "      <td>0.548454</td>\n",
       "      <td>1.254169</td>\n",
       "      <td>...</td>\n",
       "      <td>0.313581</td>\n",
       "      <td>-0.208046</td>\n",
       "      <td>-0.157909</td>\n",
       "      <td>-0.284724</td>\n",
       "      <td>-0.390590</td>\n",
       "      <td>4</td>\n",
       "      <td>27.500000</td>\n",
       "      <td>True</td>\n",
       "      <td>Marriot</td>\n",
       "      <td>1</td>\n",
       "    </tr>\n",
       "    <tr>\n",
       "      <th>3</th>\n",
       "      <td>-0.164994</td>\n",
       "      <td>0.448802</td>\n",
       "      <td>0.192798</td>\n",
       "      <td>-0.122658</td>\n",
       "      <td>0.077128</td>\n",
       "      <td>0.058662</td>\n",
       "      <td>-0.119180</td>\n",
       "      <td>0.177369</td>\n",
       "      <td>0.150165</td>\n",
       "      <td>0.530398</td>\n",
       "      <td>...</td>\n",
       "      <td>1.650154</td>\n",
       "      <td>-0.208046</td>\n",
       "      <td>-0.157909</td>\n",
       "      <td>-0.284724</td>\n",
       "      <td>-0.390590</td>\n",
       "      <td>4</td>\n",
       "      <td>30.000000</td>\n",
       "      <td>True</td>\n",
       "      <td>Marriot</td>\n",
       "      <td>1</td>\n",
       "    </tr>\n",
       "    <tr>\n",
       "      <th>4</th>\n",
       "      <td>0.283967</td>\n",
       "      <td>-0.356943</td>\n",
       "      <td>-0.514192</td>\n",
       "      <td>-0.570311</td>\n",
       "      <td>-0.585222</td>\n",
       "      <td>0.622655</td>\n",
       "      <td>-2.591543</td>\n",
       "      <td>-2.180069</td>\n",
       "      <td>-2.365444</td>\n",
       "      <td>-1.367783</td>\n",
       "      <td>...</td>\n",
       "      <td>1.650154</td>\n",
       "      <td>-0.208046</td>\n",
       "      <td>-0.157909</td>\n",
       "      <td>-0.284724</td>\n",
       "      <td>-0.390590</td>\n",
       "      <td>4</td>\n",
       "      <td>23.750000</td>\n",
       "      <td>True</td>\n",
       "      <td>Marriot</td>\n",
       "      <td>1</td>\n",
       "    </tr>\n",
       "    <tr>\n",
       "      <th>...</th>\n",
       "      <td>...</td>\n",
       "      <td>...</td>\n",
       "      <td>...</td>\n",
       "      <td>...</td>\n",
       "      <td>...</td>\n",
       "      <td>...</td>\n",
       "      <td>...</td>\n",
       "      <td>...</td>\n",
       "      <td>...</td>\n",
       "      <td>...</td>\n",
       "      <td>...</td>\n",
       "      <td>...</td>\n",
       "      <td>...</td>\n",
       "      <td>...</td>\n",
       "      <td>...</td>\n",
       "      <td>...</td>\n",
       "      <td>...</td>\n",
       "      <td>...</td>\n",
       "      <td>...</td>\n",
       "      <td>...</td>\n",
       "      <td>...</td>\n",
       "    </tr>\n",
       "    <tr>\n",
       "      <th>775</th>\n",
       "      <td>0.163896</td>\n",
       "      <td>-0.437463</td>\n",
       "      <td>-0.126961</td>\n",
       "      <td>0.194413</td>\n",
       "      <td>-0.006054</td>\n",
       "      <td>-0.242194</td>\n",
       "      <td>-0.031763</td>\n",
       "      <td>0.929474</td>\n",
       "      <td>0.946136</td>\n",
       "      <td>0.168235</td>\n",
       "      <td>...</td>\n",
       "      <td>-1.022993</td>\n",
       "      <td>-0.208046</td>\n",
       "      <td>-0.157909</td>\n",
       "      <td>-0.284724</td>\n",
       "      <td>-0.390590</td>\n",
       "      <td>6</td>\n",
       "      <td>28.333333</td>\n",
       "      <td>True</td>\n",
       "      <td>Al Bahar</td>\n",
       "      <td>1</td>\n",
       "    </tr>\n",
       "    <tr>\n",
       "      <th>776</th>\n",
       "      <td>4.032262</td>\n",
       "      <td>0.180420</td>\n",
       "      <td>0.382369</td>\n",
       "      <td>0.363857</td>\n",
       "      <td>0.626145</td>\n",
       "      <td>0.740951</td>\n",
       "      <td>0.006362</td>\n",
       "      <td>0.174604</td>\n",
       "      <td>-0.069046</td>\n",
       "      <td>-0.811428</td>\n",
       "      <td>...</td>\n",
       "      <td>0.313581</td>\n",
       "      <td>-0.208046</td>\n",
       "      <td>-0.157909</td>\n",
       "      <td>5.799783</td>\n",
       "      <td>4.603844</td>\n",
       "      <td>7</td>\n",
       "      <td>10.857143</td>\n",
       "      <td>True</td>\n",
       "      <td>enVision</td>\n",
       "      <td>1</td>\n",
       "    </tr>\n",
       "    <tr>\n",
       "      <th>777</th>\n",
       "      <td>-0.264182</td>\n",
       "      <td>-0.123105</td>\n",
       "      <td>-0.395721</td>\n",
       "      <td>-0.624033</td>\n",
       "      <td>0.615252</td>\n",
       "      <td>-0.842475</td>\n",
       "      <td>0.139269</td>\n",
       "      <td>0.057285</td>\n",
       "      <td>-1.454547</td>\n",
       "      <td>-0.126403</td>\n",
       "      <td>...</td>\n",
       "      <td>0.313581</td>\n",
       "      <td>-0.208046</td>\n",
       "      <td>-0.157909</td>\n",
       "      <td>-0.284724</td>\n",
       "      <td>-0.390590</td>\n",
       "      <td>11</td>\n",
       "      <td>26.272727</td>\n",
       "      <td>True</td>\n",
       "      <td>enVision</td>\n",
       "      <td>1</td>\n",
       "    </tr>\n",
       "    <tr>\n",
       "      <th>778</th>\n",
       "      <td>-0.201537</td>\n",
       "      <td>-0.754977</td>\n",
       "      <td>-1.145291</td>\n",
       "      <td>-1.338336</td>\n",
       "      <td>0.284510</td>\n",
       "      <td>0.013399</td>\n",
       "      <td>-2.591543</td>\n",
       "      <td>-2.180069</td>\n",
       "      <td>-2.365444</td>\n",
       "      <td>-0.761686</td>\n",
       "      <td>...</td>\n",
       "      <td>1.650154</td>\n",
       "      <td>-0.208046</td>\n",
       "      <td>-0.157909</td>\n",
       "      <td>-0.284724</td>\n",
       "      <td>-0.390590</td>\n",
       "      <td>4</td>\n",
       "      <td>19.500000</td>\n",
       "      <td>True</td>\n",
       "      <td>enVision</td>\n",
       "      <td>1</td>\n",
       "    </tr>\n",
       "    <tr>\n",
       "      <th>779</th>\n",
       "      <td>-0.775788</td>\n",
       "      <td>0.249201</td>\n",
       "      <td>0.049483</td>\n",
       "      <td>-0.095007</td>\n",
       "      <td>-0.722748</td>\n",
       "      <td>0.537922</td>\n",
       "      <td>0.692272</td>\n",
       "      <td>0.040695</td>\n",
       "      <td>0.461956</td>\n",
       "      <td>1.502619</td>\n",
       "      <td>...</td>\n",
       "      <td>0.313581</td>\n",
       "      <td>-0.208046</td>\n",
       "      <td>-0.157909</td>\n",
       "      <td>-0.284724</td>\n",
       "      <td>-0.390590</td>\n",
       "      <td>5</td>\n",
       "      <td>21.400000</td>\n",
       "      <td>True</td>\n",
       "      <td>enVision</td>\n",
       "      <td>1</td>\n",
       "    </tr>\n",
       "  </tbody>\n",
       "</table>\n",
       "<p>780 rows × 182 columns</p>\n",
       "</div>"
      ],
      "text/plain": [
       "     fk_grade_level_TA  arousal..ANEW._TA  dominance..ANEW._TA  \\\n",
       "0            -0.102348           0.236255            -0.449482   \n",
       "1             1.996280          -2.096391            -1.892456   \n",
       "2            -0.326828          -0.817639            -1.014791   \n",
       "3            -0.164994           0.448802             0.192798   \n",
       "4             0.283967          -0.356943            -0.514192   \n",
       "..                 ...                ...                  ...   \n",
       "775           0.163896          -0.437463            -0.126961   \n",
       "776           4.032262           0.180420             0.382369   \n",
       "777          -0.264182          -0.123105            -0.395721   \n",
       "778          -0.201537          -0.754977            -1.145291   \n",
       "779          -0.775788           0.249201             0.049483   \n",
       "\n",
       "     valence..ANEW._TA  concreteness_TA  familiarity_TA  emotionality_TA  \\\n",
       "0            -0.270067        -0.048619       -0.213981        -0.245553   \n",
       "1            -1.995635        -0.673987       -0.445584         0.017646   \n",
       "2            -0.972723        -1.041318       -2.005196         0.161258   \n",
       "3            -0.122658         0.077128        0.058662        -0.119180   \n",
       "4            -0.570311        -0.585222        0.622655        -2.591543   \n",
       "..                 ...              ...             ...              ...   \n",
       "775           0.194413        -0.006054       -0.242194        -0.031763   \n",
       "776           0.363857         0.626145        0.740951         0.006362   \n",
       "777          -0.624033         0.615252       -0.842475         0.139269   \n",
       "778          -1.338336         0.284510        0.013399        -2.591543   \n",
       "779          -0.095007        -0.722748        0.537922         0.692272   \n",
       "\n",
       "     extremity_TA  valence..EL._TA   SENT_TA  ...   Apology  \\\n",
       "0        0.208970        -0.152049  1.158130  ...  0.313581   \n",
       "1        1.125400         1.034104  0.265167  ... -1.022993   \n",
       "2        0.152088         0.548454  1.254169  ...  0.313581   \n",
       "3        0.177369         0.150165  0.530398  ...  1.650154   \n",
       "4       -2.180069        -2.365444 -1.367783  ...  1.650154   \n",
       "..            ...              ...       ...  ...       ...   \n",
       "775      0.929474         0.946136  0.168235  ... -1.022993   \n",
       "776      0.174604        -0.069046 -0.811428  ...  0.313581   \n",
       "777      0.057285        -1.454547 -0.126403  ...  0.313581   \n",
       "778     -2.180069        -2.365444 -0.761686  ...  1.650154   \n",
       "779      0.040695         0.461956  1.502619  ...  0.313581   \n",
       "\n",
       "     Truth.Intensifier  Affirmation  Adverb.Limiter  Conjunction.Start  \\\n",
       "0            -0.208046    -0.157909       -0.284724          -0.390590   \n",
       "1            -0.208046    -0.157909       -0.284724          -0.390590   \n",
       "2            -0.208046    -0.157909       -0.284724          -0.390590   \n",
       "3            -0.208046    -0.157909       -0.284724          -0.390590   \n",
       "4            -0.208046    -0.157909       -0.284724          -0.390590   \n",
       "..                 ...          ...             ...                ...   \n",
       "775          -0.208046    -0.157909       -0.284724          -0.390590   \n",
       "776          -0.208046    -0.157909        5.799783           4.603844   \n",
       "777          -0.208046    -0.157909       -0.284724          -0.390590   \n",
       "778          -0.208046    -0.157909       -0.284724          -0.390590   \n",
       "779          -0.208046    -0.157909       -0.284724          -0.390590   \n",
       "\n",
       "     num_ratings  mturk_rating  apology     Brand  Label  \n",
       "0              3     20.333333     True   Marriot      1  \n",
       "1              3    -14.000000    False   Marriot      0  \n",
       "2              4     27.500000     True   Marriot      1  \n",
       "3              4     30.000000     True   Marriot      1  \n",
       "4              4     23.750000     True   Marriot      1  \n",
       "..           ...           ...      ...       ...    ...  \n",
       "775            6     28.333333     True  Al Bahar      1  \n",
       "776            7     10.857143     True  enVision      1  \n",
       "777           11     26.272727     True  enVision      1  \n",
       "778            4     19.500000     True  enVision      1  \n",
       "779            5     21.400000     True  enVision      1  \n",
       "\n",
       "[780 rows x 182 columns]"
      ]
     },
     "execution_count": 3,
     "metadata": {},
     "output_type": "execute_result"
    }
   ],
   "source": [
    "df1"
   ]
  },
  {
   "cell_type": "code",
   "execution_count": 5,
   "id": "1f6dfea1",
   "metadata": {},
   "outputs": [],
   "source": [
    "## lasso - logistics - label - all features"
   ]
  },
  {
   "cell_type": "code",
   "execution_count": 5,
   "id": "3aace3c2",
   "metadata": {},
   "outputs": [],
   "source": [
    "# df_top_pos = df1[df1[\"Label\"] == 1]\n",
    "# df_top_neg = df1[df1[\"Label\"] == 0]"
   ]
  },
  {
   "cell_type": "code",
   "execution_count": 6,
   "id": "56b1edaa",
   "metadata": {},
   "outputs": [
    {
     "name": "stdout",
     "output_type": "stream",
     "text": [
      "(519, 182)\n"
     ]
    }
   ],
   "source": [
    "# from sklearn.utils import resample\n",
    "# neg_upsample = resample(df_top_neg,\n",
    "#              replace=True,\n",
    "#              n_samples=len(df_top_pos),\n",
    "#              random_state=42)\n",
    "\n",
    "# print(neg_upsample.shape)"
   ]
  },
  {
   "cell_type": "code",
   "execution_count": 7,
   "id": "64260955",
   "metadata": {},
   "outputs": [],
   "source": [
    "# data_upsampled = pd.concat([df_top_pos, neg_upsample])"
   ]
  },
  {
   "cell_type": "code",
   "execution_count": 4,
   "id": "f6d21d06",
   "metadata": {},
   "outputs": [],
   "source": [
    "from sklearn.linear_model import LogisticRegression\n",
    "from sklearn.model_selection import train_test_split\n",
    "from sklearn.model_selection import cross_val_score\n",
    "from sklearn.metrics import confusion_matrix\n",
    "from sklearn.svm import SVC\n",
    "from sklearn.metrics import plot_roc_curve\n",
    "from sklearn.ensemble import RandomForestClassifier\n",
    "import matplotlib.pyplot as plt\n",
    "\n",
    "X_data = df1[[\"Apology\"]]\n",
    "y_data = df1['Label']\n",
    "X_train, X_test, y_train, y_test = train_test_split(X_data,\n",
    "                            y_data, stratify=y_data, #keep the same ratio\n",
    "                            test_size=0.1,\n",
    "                            random_state=42)"
   ]
  },
  {
   "cell_type": "code",
   "execution_count": 5,
   "id": "8b834c11",
   "metadata": {},
   "outputs": [],
   "source": [
    "df_train = X_train\n",
    "df_train[\"label\"] = y_train.to_list()"
   ]
  },
  {
   "cell_type": "code",
   "execution_count": 6,
   "id": "450356f0",
   "metadata": {},
   "outputs": [
    {
     "data": {
      "text/html": [
       "<div>\n",
       "<style scoped>\n",
       "    .dataframe tbody tr th:only-of-type {\n",
       "        vertical-align: middle;\n",
       "    }\n",
       "\n",
       "    .dataframe tbody tr th {\n",
       "        vertical-align: top;\n",
       "    }\n",
       "\n",
       "    .dataframe thead th {\n",
       "        text-align: right;\n",
       "    }\n",
       "</style>\n",
       "<table border=\"1\" class=\"dataframe\">\n",
       "  <thead>\n",
       "    <tr style=\"text-align: right;\">\n",
       "      <th></th>\n",
       "      <th>Apology</th>\n",
       "      <th>label</th>\n",
       "    </tr>\n",
       "  </thead>\n",
       "  <tbody>\n",
       "    <tr>\n",
       "      <th>283</th>\n",
       "      <td>0.313581</td>\n",
       "      <td>1</td>\n",
       "    </tr>\n",
       "    <tr>\n",
       "      <th>342</th>\n",
       "      <td>0.313581</td>\n",
       "      <td>1</td>\n",
       "    </tr>\n",
       "    <tr>\n",
       "      <th>176</th>\n",
       "      <td>0.313581</td>\n",
       "      <td>1</td>\n",
       "    </tr>\n",
       "    <tr>\n",
       "      <th>332</th>\n",
       "      <td>-1.022993</td>\n",
       "      <td>0</td>\n",
       "    </tr>\n",
       "    <tr>\n",
       "      <th>707</th>\n",
       "      <td>-1.022993</td>\n",
       "      <td>1</td>\n",
       "    </tr>\n",
       "    <tr>\n",
       "      <th>...</th>\n",
       "      <td>...</td>\n",
       "      <td>...</td>\n",
       "    </tr>\n",
       "    <tr>\n",
       "      <th>48</th>\n",
       "      <td>0.313581</td>\n",
       "      <td>1</td>\n",
       "    </tr>\n",
       "    <tr>\n",
       "      <th>153</th>\n",
       "      <td>0.313581</td>\n",
       "      <td>1</td>\n",
       "    </tr>\n",
       "    <tr>\n",
       "      <th>109</th>\n",
       "      <td>0.313581</td>\n",
       "      <td>1</td>\n",
       "    </tr>\n",
       "    <tr>\n",
       "      <th>430</th>\n",
       "      <td>-1.022993</td>\n",
       "      <td>0</td>\n",
       "    </tr>\n",
       "    <tr>\n",
       "      <th>196</th>\n",
       "      <td>-1.022993</td>\n",
       "      <td>1</td>\n",
       "    </tr>\n",
       "  </tbody>\n",
       "</table>\n",
       "<p>702 rows × 2 columns</p>\n",
       "</div>"
      ],
      "text/plain": [
       "      Apology  label\n",
       "283  0.313581      1\n",
       "342  0.313581      1\n",
       "176  0.313581      1\n",
       "332 -1.022993      0\n",
       "707 -1.022993      1\n",
       "..        ...    ...\n",
       "48   0.313581      1\n",
       "153  0.313581      1\n",
       "109  0.313581      1\n",
       "430 -1.022993      0\n",
       "196 -1.022993      1\n",
       "\n",
       "[702 rows x 2 columns]"
      ]
     },
     "execution_count": 6,
     "metadata": {},
     "output_type": "execute_result"
    }
   ],
   "source": [
    "df_train"
   ]
  },
  {
   "cell_type": "code",
   "execution_count": 7,
   "id": "57894b43",
   "metadata": {},
   "outputs": [],
   "source": [
    "df_top_pos = df_train[df_train[\"label\"] == 1]\n",
    "df_top_neg = df_train[df_train[\"label\"] == 0]"
   ]
  },
  {
   "cell_type": "code",
   "execution_count": 8,
   "id": "49eacaf6",
   "metadata": {},
   "outputs": [
    {
     "name": "stdout",
     "output_type": "stream",
     "text": [
      "(467, 2)\n"
     ]
    }
   ],
   "source": [
    "from sklearn.utils import resample\n",
    "neg_upsample = resample(df_top_neg,\n",
    "             replace=True,\n",
    "             n_samples=len(df_top_pos),\n",
    "             random_state=42)\n",
    "\n",
    "print(neg_upsample.shape)"
   ]
  },
  {
   "cell_type": "code",
   "execution_count": 9,
   "id": "2d88c26e",
   "metadata": {},
   "outputs": [],
   "source": [
    "data_upsampled = pd.concat([df_top_pos, neg_upsample])"
   ]
  },
  {
   "cell_type": "code",
   "execution_count": 10,
   "id": "dee67c4d",
   "metadata": {},
   "outputs": [],
   "source": [
    "X_train1 = data_upsampled[data_upsampled.columns[:-1]]\n",
    "y_train1 = data_upsampled[\"label\"]"
   ]
  },
  {
   "cell_type": "code",
   "execution_count": 21,
   "id": "420b34da",
   "metadata": {},
   "outputs": [],
   "source": [
    "lgclf = LogisticRegression(random_state=42, fit_intercept = True).fit(X_train1, y_train1) "
   ]
  },
  {
   "cell_type": "code",
   "execution_count": 22,
   "id": "30709eff",
   "metadata": {},
   "outputs": [
    {
     "name": "stdout",
     "output_type": "stream",
     "text": [
      "[0.89361702 0.88297872 0.88297872 0.93617021 0.92473118 0.92473118\n",
      " 0.90322581 0.88172043 0.87096774 0.89247312]\n"
     ]
    }
   ],
   "source": [
    "print(cross_val_score(lgclf, X_train1, y_train1, cv=10))"
   ]
  },
  {
   "cell_type": "code",
   "execution_count": 23,
   "id": "0e56f26d",
   "metadata": {},
   "outputs": [
    {
     "name": "stdout",
     "output_type": "stream",
     "text": [
      "Accuracy Score: 0.9102564102564102\n"
     ]
    }
   ],
   "source": [
    "print(\"Accuracy Score:\",lgclf.score(X_test, y_test))"
   ]
  },
  {
   "cell_type": "code",
   "execution_count": 24,
   "id": "d883085a",
   "metadata": {},
   "outputs": [
    {
     "data": {
      "text/plain": [
       "array([1, 0, 0, 0, 1, 0, 0, 1, 1, 1, 0, 1, 1, 1, 1, 1, 1, 1, 1, 0, 1, 1,\n",
       "       1, 1, 0, 1, 1, 0, 0, 1, 0, 1, 1, 1, 1, 0, 1, 0, 0, 0, 0, 1, 0, 1,\n",
       "       1, 0, 0, 1, 1, 1, 0, 1, 1, 1, 1, 0, 0, 1, 1, 1, 0, 0, 1, 1, 1, 1,\n",
       "       0, 1, 1, 0, 1, 1, 0, 1, 0, 1, 1, 0])"
      ]
     },
     "execution_count": 24,
     "metadata": {},
     "output_type": "execute_result"
    }
   ],
   "source": [
    "lgclf.predict(X_test)"
   ]
  },
  {
   "cell_type": "code",
   "execution_count": 25,
   "id": "709e1948",
   "metadata": {},
   "outputs": [
    {
     "data": {
      "text/plain": [
       "array([[24,  2],\n",
       "       [ 5, 47]])"
      ]
     },
     "execution_count": 25,
     "metadata": {},
     "output_type": "execute_result"
    }
   ],
   "source": [
    "from sklearn.metrics import confusion_matrix\n",
    "confusion_matrix(y_test, lgclf.predict(X_test))"
   ]
  },
  {
   "cell_type": "code",
   "execution_count": 26,
   "id": "72ec84d9",
   "metadata": {},
   "outputs": [
    {
     "name": "stderr",
     "output_type": "stream",
     "text": [
      "/opt/anaconda3/lib/python3.8/site-packages/sklearn/utils/deprecation.py:87: FutureWarning: Function plot_roc_curve is deprecated; Function :func:`plot_roc_curve` is deprecated in 1.0 and will be removed in 1.2. Use one of the class methods: :meth:`sklearn.metric.RocCurveDisplay.from_predictions` or :meth:`sklearn.metric.RocCurveDisplay.from_estimator`.\n",
      "  warnings.warn(msg, category=FutureWarning)\n"
     ]
    },
    {
     "data": {
      "image/png": "[encoded data removed]",
      "text/plain": [
       "<Figure size 432x288 with 1 Axes>"
      ]
     },
     "metadata": {
      "needs_background": "light"
     },
     "output_type": "display_data"
    }
   ],
   "source": [
    "from sklearn.svm import SVC\n",
    "from sklearn.metrics import plot_roc_curve\n",
    "from sklearn.ensemble import RandomForestClassifier\n",
    "import matplotlib.pyplot as plt\n",
    "\n",
    "rfc_disp = plot_roc_curve(lgclf, X_test, y_test)\n",
    "plt.show()"
   ]
  },
  {
   "cell_type": "code",
   "execution_count": 27,
   "id": "445d3925",
   "metadata": {},
   "outputs": [],
   "source": [
    "coeff_df = pd.DataFrame(X_data.columns)\n",
    "coeff_df.columns = ['Features']\n",
    "coeff_df[\"Coefficient\"] = pd.Series(lgclf.coef_[0])\n",
    "coeff_df[\"Magnitude\"] = pd.Series(abs(lgclf.coef_[0]))\n",
    "coeff_df.sort_values(by='Magnitude', inplace=True, ascending=True)\n",
    "df_f0 = coeff_df[coeff_df[\"Coefficient\"] == 0]\n",
    "df_feature = coeff_df[coeff_df[\"Coefficient\"] != 0]"
   ]
  },
  {
   "cell_type": "code",
   "execution_count": 28,
   "id": "05d9f5f3",
   "metadata": {},
   "outputs": [],
   "source": [
    "### what are the textual features that predict apology?"
   ]
  },
  {
   "cell_type": "code",
   "execution_count": 29,
   "id": "536b07c5",
   "metadata": {},
   "outputs": [
    {
     "data": {
      "text/html": [
       "<div>\n",
       "<style scoped>\n",
       "    .dataframe tbody tr th:only-of-type {\n",
       "        vertical-align: middle;\n",
       "    }\n",
       "\n",
       "    .dataframe tbody tr th {\n",
       "        vertical-align: top;\n",
       "    }\n",
       "\n",
       "    .dataframe thead th {\n",
       "        text-align: right;\n",
       "    }\n",
       "</style>\n",
       "<table border=\"1\" class=\"dataframe\">\n",
       "  <thead>\n",
       "    <tr style=\"text-align: right;\">\n",
       "      <th></th>\n",
       "      <th>Features</th>\n",
       "      <th>Coefficient</th>\n",
       "      <th>Magnitude</th>\n",
       "    </tr>\n",
       "  </thead>\n",
       "  <tbody>\n",
       "    <tr>\n",
       "      <th>0</th>\n",
       "      <td>Apology</td>\n",
       "      <td>3.01615</td>\n",
       "      <td>3.01615</td>\n",
       "    </tr>\n",
       "  </tbody>\n",
       "</table>\n",
       "</div>"
      ],
      "text/plain": [
       "  Features  Coefficient  Magnitude\n",
       "0  Apology      3.01615    3.01615"
      ]
     },
     "execution_count": 29,
     "metadata": {},
     "output_type": "execute_result"
    }
   ],
   "source": [
    "df_feature"
   ]
  },
  {
   "cell_type": "code",
   "execution_count": null,
   "id": "307750b2",
   "metadata": {},
   "outputs": [],
   "source": [
    "## logistics with l2 "
   ]
  },
  {
   "cell_type": "code",
   "execution_count": 30,
   "id": "f34db47a",
   "metadata": {},
   "outputs": [],
   "source": [
    "from sklearn.linear_model import LinearRegression"
   ]
  },
  {
   "cell_type": "code",
   "execution_count": null,
   "id": "57a7dbb7",
   "metadata": {},
   "outputs": [],
   "source": []
  },
  {
   "cell_type": "code",
   "execution_count": 31,
   "id": "36d3e5ae",
   "metadata": {},
   "outputs": [],
   "source": [
    "X_data = df1[[\"Apology\"]]\n",
    "y_data = df1['mturk_rating']\n",
    "X_train, X_test, y_train, y_test = train_test_split(X_data,\n",
    "                            y_data,\n",
    "                            test_size=0.1,\n",
    "                            random_state=42)"
   ]
  },
  {
   "cell_type": "code",
   "execution_count": 32,
   "id": "a7edc929",
   "metadata": {},
   "outputs": [],
   "source": [
    "olsclf = LinearRegression(fit_intercept = True).fit(X_train, y_train)"
   ]
  },
  {
   "cell_type": "code",
   "execution_count": 33,
   "id": "d269d5c2",
   "metadata": {},
   "outputs": [
    {
     "data": {
      "text/plain": [
       "253.67957408325134"
      ]
     },
     "execution_count": 33,
     "metadata": {},
     "output_type": "execute_result"
    }
   ],
   "source": [
    "from sklearn.metrics import mean_squared_error\n",
    "mean_squared_error(y_test, olsclf.predict(X_test))"
   ]
  },
  {
   "cell_type": "code",
   "execution_count": 34,
   "id": "83084605",
   "metadata": {},
   "outputs": [
    {
     "data": {
      "text/plain": [
       "array([11.82121483, -7.3251665 , -7.3251665 , -7.3251665 , -7.3251665 ,\n",
       "       -7.3251665 , 11.82121483, 11.82121483, -7.3251665 , 11.82121483,\n",
       "       11.82121483, -7.3251665 , 11.82121483, -7.3251665 , 50.11397751,\n",
       "       11.82121483, 11.82121483, 11.82121483, -7.3251665 , 11.82121483,\n",
       "       11.82121483, 11.82121483, 30.96759617, 11.82121483, 11.82121483,\n",
       "       11.82121483, -7.3251665 , 11.82121483, -7.3251665 , 11.82121483,\n",
       "       11.82121483, -7.3251665 , 30.96759617, 30.96759617, 11.82121483,\n",
       "       11.82121483, 11.82121483, 11.82121483, -7.3251665 , 11.82121483,\n",
       "       11.82121483, 11.82121483, 11.82121483, -7.3251665 , 11.82121483,\n",
       "       -7.3251665 , 11.82121483, -7.3251665 , -7.3251665 , 30.96759617,\n",
       "       11.82121483, 30.96759617, 30.96759617, 11.82121483, 11.82121483,\n",
       "       11.82121483, 50.11397751, 30.96759617, 11.82121483, 11.82121483,\n",
       "       30.96759617, -7.3251665 , -7.3251665 , 11.82121483, 11.82121483,\n",
       "       11.82121483, -7.3251665 , -7.3251665 , -7.3251665 , 11.82121483,\n",
       "       -7.3251665 , 30.96759617, -7.3251665 , -7.3251665 , 11.82121483,\n",
       "       30.96759617, 30.96759617, -7.3251665 ])"
      ]
     },
     "execution_count": 34,
     "metadata": {},
     "output_type": "execute_result"
    }
   ],
   "source": [
    "olsclf.predict(X_test)"
   ]
  },
  {
   "cell_type": "code",
   "execution_count": 35,
   "id": "2fb97215",
   "metadata": {},
   "outputs": [],
   "source": [
    "def match():\n",
    "    pre_binary = []\n",
    "    true = []\n",
    "    no_match = 0\n",
    "    for i in range(len(y_test)):\n",
    "        if y_test.to_list()[i] * olsclf.predict(X_test)[i] < 0:\n",
    "            no_match = no_match + 1\n",
    "    accuracy = 1- (no_match/len(y_test))\n",
    "    for i in range(len(y_test)):\n",
    "        if olsclf.predict(X_test)[i] <= 0:\n",
    "            pre_binary.append(0)\n",
    "        else:\n",
    "            pre_binary.append(1)\n",
    "    for i in range(len(y_test)):\n",
    "        if y_test.to_list()[i] <= 0:\n",
    "            true.append(0)\n",
    "        else:\n",
    "            true.append(1)\n",
    "    print(accuracy)\n",
    "    return pre_binary, true"
   ]
  },
  {
   "cell_type": "code",
   "execution_count": 36,
   "id": "a1f3c58c",
   "metadata": {},
   "outputs": [
    {
     "name": "stdout",
     "output_type": "stream",
     "text": [
      "0.8846153846153846\n"
     ]
    }
   ],
   "source": [
    "pre, true = match()"
   ]
  },
  {
   "cell_type": "code",
   "execution_count": 37,
   "id": "72443ccc",
   "metadata": {},
   "outputs": [
    {
     "data": {
      "text/plain": [
       "array([[17,  1],\n",
       "       [ 9, 51]])"
      ]
     },
     "execution_count": 37,
     "metadata": {},
     "output_type": "execute_result"
    }
   ],
   "source": [
    "from sklearn.metrics import confusion_matrix\n",
    "confusion_matrix(true, pre)"
   ]
  },
  {
   "cell_type": "code",
   "execution_count": null,
   "id": "296db302",
   "metadata": {},
   "outputs": [],
   "source": []
  },
  {
   "cell_type": "code",
   "execution_count": 38,
   "id": "a2079ec3",
   "metadata": {},
   "outputs": [
    {
     "data": {
      "text/plain": [
       "(0.5636127765560426, 7.761082180495237e-08)"
      ]
     },
     "execution_count": 38,
     "metadata": {},
     "output_type": "execute_result"
    }
   ],
   "source": [
    "import numpy as np\n",
    "import scipy.stats\n",
    "scipy.stats.pearsonr(olsclf.predict(X_test), y_test)"
   ]
  },
  {
   "cell_type": "code",
   "execution_count": 39,
   "id": "0281cf4e",
   "metadata": {},
   "outputs": [
    {
     "data": {
      "image/png": "[encoded data removed]",
      "text/plain": [
       "<Figure size 432x288 with 1 Axes>"
      ]
     },
     "metadata": {
      "needs_background": "light"
     },
     "output_type": "display_data"
    }
   ],
   "source": [
    "# Visualising the Test set results\n",
    "theta = np.polyfit(y_test, olsclf.predict(X_test), 1)\n",
    "y_line = theta[1] + theta[0] * y_test\n",
    "plt.scatter(y_test, olsclf.predict(X_test), color = 'pink')\n",
    "plt.plot(y_test, y_line, 'black')\n",
    "plt.title('Apology mturk_rating')\n",
    "plt.xlabel('true mturk_rating')\n",
    "plt.ylabel('ols regression predicted mturk_rating')\n",
    "plt.show()"
   ]
  },
  {
   "cell_type": "code",
   "execution_count": 40,
   "id": "4c20a7c8",
   "metadata": {},
   "outputs": [],
   "source": [
    "coeff_df = pd.DataFrame(X_data.columns)\n",
    "coeff_df.columns = ['Features']\n",
    "coeff_df[\"Coefficient\"] = pd.Series(olsclf.coef_)\n",
    "coeff_df[\"Magnitude\"] = pd.Series(abs(olsclf.coef_))\n",
    "coeff_df.sort_values(by='Magnitude', inplace=True, ascending=True)\n",
    "df_f0 = coeff_df[coeff_df[\"Coefficient\"] == 0]\n",
    "df_feature = coeff_df[coeff_df[\"Coefficient\"] != 0]"
   ]
  },
  {
   "cell_type": "code",
   "execution_count": 41,
   "id": "9ac3a0f5",
   "metadata": {},
   "outputs": [
    {
     "data": {
      "text/html": [
       "<div>\n",
       "<style scoped>\n",
       "    .dataframe tbody tr th:only-of-type {\n",
       "        vertical-align: middle;\n",
       "    }\n",
       "\n",
       "    .dataframe tbody tr th {\n",
       "        vertical-align: top;\n",
       "    }\n",
       "\n",
       "    .dataframe thead th {\n",
       "        text-align: right;\n",
       "    }\n",
       "</style>\n",
       "<table border=\"1\" class=\"dataframe\">\n",
       "  <thead>\n",
       "    <tr style=\"text-align: right;\">\n",
       "      <th></th>\n",
       "      <th>Features</th>\n",
       "      <th>Coefficient</th>\n",
       "      <th>Magnitude</th>\n",
       "    </tr>\n",
       "  </thead>\n",
       "  <tbody>\n",
       "    <tr>\n",
       "      <th>0</th>\n",
       "      <td>Apology</td>\n",
       "      <td>14.324972</td>\n",
       "      <td>14.324972</td>\n",
       "    </tr>\n",
       "  </tbody>\n",
       "</table>\n",
       "</div>"
      ],
      "text/plain": [
       "  Features  Coefficient  Magnitude\n",
       "0  Apology    14.324972  14.324972"
      ]
     },
     "execution_count": 41,
     "metadata": {},
     "output_type": "execute_result"
    }
   ],
   "source": [
    "df_feature"
   ]
  },
  {
   "cell_type": "code",
   "execution_count": null,
   "id": "199ad5a1",
   "metadata": {},
   "outputs": [],
   "source": []
  },
  {
   "cell_type": "code",
   "execution_count": null,
   "id": "5d1f1d9a",
   "metadata": {},
   "outputs": [],
   "source": []
  }
 ],
 "metadata": {
  "kernelspec": {
   "display_name": "Python 3 (ipykernel)",
   "language": "python",
   "name": "python3"
  },
  "language_info": {
   "codemirror_mode": {
    "name": "ipython",
    "version": 3
   },
   "file_extension": ".py",
   "mimetype": "text/x-python",
   "name": "python",
   "nbconvert_exporter": "python",
   "pygments_lexer": "ipython3",
   "version": "3.8.8"
  }
 },
 "nbformat": 4,
 "nbformat_minor": 5
}
