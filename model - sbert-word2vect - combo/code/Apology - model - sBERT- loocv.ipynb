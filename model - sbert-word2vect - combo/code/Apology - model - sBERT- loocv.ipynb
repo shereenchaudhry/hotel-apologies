{
 "cells": [
  {
   "cell_type": "code",
   "execution_count": 1,
   "id": "1d8c11c7",
   "metadata": {},
   "outputs": [],
   "source": [
    "import pandas as pd\n",
    "import matplotlib as mpl\n",
    "from matplotlib import pyplot as plt\n",
    "from pylab import rcParams\n",
    "import networkx as nx\n",
    "from gensim.models import Word2Vec\n",
    "import gensim\n",
    "import numpy as np"
   ]
  },
  {
   "cell_type": "code",
   "execution_count": 2,
   "id": "e232c175",
   "metadata": {},
   "outputs": [],
   "source": [
    "df_sbert = pd.read_csv(\"sBERT_features.csv\")"
   ]
  },
  {
   "cell_type": "code",
   "execution_count": 4,
   "id": "a844e8b6",
   "metadata": {},
   "outputs": [],
   "source": [
    "from sklearn.linear_model import LogisticRegression\n",
    "from sklearn.model_selection import train_test_split\n",
    "from sklearn.model_selection import cross_val_score\n",
    "from sklearn.metrics import confusion_matrix\n",
    "from sklearn.svm import SVC\n",
    "from sklearn.metrics import plot_roc_curve\n",
    "from sklearn.ensemble import RandomForestClassifier\n",
    "import matplotlib.pyplot as plt\n",
    "\n",
    "X_data = df_sbert[df_sbert.columns[1:-3]]\n",
    "y_data = df_sbert['label']\n",
    "# X_train, X_test, y_train, y_test = train_test_split(X_data,\n",
    "#                             y_data, stratify=y_data, #keep the same ratio\n",
    "#                             test_size=0.1,\n",
    "#                             random_state=42)"
   ]
  },
  {
   "cell_type": "code",
   "execution_count": 5,
   "id": "13d448a3",
   "metadata": {},
   "outputs": [],
   "source": [
    "## lasso - logistics - label - all features"
   ]
  },
  {
   "cell_type": "code",
   "execution_count": 6,
   "id": "aa315df7",
   "metadata": {},
   "outputs": [],
   "source": [
    "from sklearn.model_selection import train_test_split\n",
    "from sklearn.model_selection import LeaveOneOut\n",
    "from sklearn.model_selection import cross_val_score\n",
    "from sklearn.linear_model import LinearRegression\n",
    "from numpy import mean\n",
    "from numpy import absolute\n",
    "from numpy import sqrt\n",
    "import pandas as pd"
   ]
  },
  {
   "cell_type": "code",
   "execution_count": 7,
   "id": "038144bf",
   "metadata": {},
   "outputs": [
    {
     "data": {
      "text/plain": [
       "0.7551282051282051"
      ]
     },
     "execution_count": 7,
     "metadata": {},
     "output_type": "execute_result"
    }
   ],
   "source": [
    "#define cross-validation method to use\n",
    "cv = LeaveOneOut()\n",
    "\n",
    "#build multiple linear regression model\n",
    "model = LogisticRegression(random_state=42, fit_intercept = True, solver = \"liblinear\", penalty =\"l1\")\n",
    "\n",
    "#use LOOCV to evaluate model\n",
    "scores = cross_val_score(model, X_data, y_data, scoring = 'accuracy', cv=cv, n_jobs=-1)\n",
    "\n",
    "#view mean absolute error\n",
    "mean(absolute(scores))"
   ]
  },
  {
   "cell_type": "code",
   "execution_count": 8,
   "id": "397591b0",
   "metadata": {},
   "outputs": [],
   "source": [
    "## Ridge - logistics - label - all features"
   ]
  },
  {
   "cell_type": "code",
   "execution_count": 9,
   "id": "8cf15348",
   "metadata": {},
   "outputs": [
    {
     "data": {
      "text/plain": [
       "0.7589743589743589"
      ]
     },
     "execution_count": 9,
     "metadata": {},
     "output_type": "execute_result"
    }
   ],
   "source": [
    "#define cross-validation method to use\n",
    "cv = LeaveOneOut()\n",
    "\n",
    "#build multiple linear regression model\n",
    "model =  LogisticRegression(random_state=42, fit_intercept = True, penalty =\"l2\")\n",
    "\n",
    "#use LOOCV to evaluate model\n",
    "scores = cross_val_score(model, X_data, y_data, scoring = 'accuracy', cv=cv, n_jobs=-1)\n",
    "\n",
    "#view mean absolute error\n",
    "mean(absolute(scores))"
   ]
  },
  {
   "cell_type": "code",
   "execution_count": null,
   "id": "528b49a6",
   "metadata": {},
   "outputs": [],
   "source": []
  },
  {
   "cell_type": "code",
   "execution_count": 10,
   "id": "326e1578",
   "metadata": {},
   "outputs": [],
   "source": [
    "from sklearn.linear_model import LinearRegression"
   ]
  },
  {
   "cell_type": "code",
   "execution_count": 11,
   "id": "4b0985e4",
   "metadata": {},
   "outputs": [],
   "source": [
    "X_data = df_sbert[df_sbert.columns[1:-3]]\n",
    "y_data = df_sbert['rating']"
   ]
  },
  {
   "cell_type": "code",
   "execution_count": 23,
   "id": "c1684390",
   "metadata": {},
   "outputs": [],
   "source": [
    "#define cross-validation method to use\n",
    "cv = LeaveOneOut()\n",
    "y_true = []\n",
    "y_pred = []\n",
    "for train_ix, test_ix in cv.split(X_data):\n",
    "# split data\n",
    "    X_train, X_test = X_data.iloc[train_ix, :], X_data.iloc[test_ix, :]\n",
    "    y_train, y_test = y_data.iloc[train_ix], y_data.iloc[test_ix]\n",
    "# fit model\n",
    "    model = LinearRegression(fit_intercept = True)\n",
    "    model.fit(X_train, y_train)\n",
    " # evaluate model\n",
    "    yhat = model.predict(X_test)\n",
    "    # store\n",
    "    y_true.append(y_test.iloc[0])\n",
    "    y_pred.append(yhat[0])\n",
    "# # calculate accuracy\n",
    "# acc = accuracy_score(y_true, y_pred)\n",
    "# print('Accuracy: %.3f' % acc)"
   ]
  },
  {
   "cell_type": "code",
   "execution_count": 24,
   "id": "dce30eab",
   "metadata": {},
   "outputs": [
    {
     "data": {
      "text/plain": [
       "(0.5893442766058454, 3.9956922500457e-74)"
      ]
     },
     "execution_count": 24,
     "metadata": {},
     "output_type": "execute_result"
    }
   ],
   "source": [
    "import numpy as np\n",
    "import scipy.stats\n",
    "scipy.stats.pearsonr(y_pred, y_true)"
   ]
  },
  {
   "cell_type": "code",
   "execution_count": 27,
   "id": "3ae9ee79",
   "metadata": {},
   "outputs": [
    {
     "data": {
      "image/png": "[encoded data removed]",
      "text/plain": [
       "<Figure size 432x288 with 1 Axes>"
      ]
     },
     "metadata": {
      "needs_background": "light"
     },
     "output_type": "display_data"
    }
   ],
   "source": [
    "# Visualising the Test set results\n",
    "theta = np.polyfit(y_true, y_pred, 1)\n",
    "y_line = theta[1] + theta[0] * np.array(y_true)\n",
    "plt.scatter(y_true, y_pred, color = 'blue')\n",
    "plt.plot(y_true, y_line, 'black')\n",
    "plt.title('Apology mturk_rating')\n",
    "plt.xlabel('true mturk_rating')\n",
    "plt.ylabel('OLS regression predicted mturk_rating')\n",
    "plt.show()"
   ]
  },
  {
   "cell_type": "code",
   "execution_count": 28,
   "id": "75791da0",
   "metadata": {},
   "outputs": [],
   "source": [
    "from sklearn.linear_model import Ridge, RidgeCV, Lasso, LassoCV"
   ]
  },
  {
   "cell_type": "code",
   "execution_count": 29,
   "id": "6db14a21",
   "metadata": {},
   "outputs": [],
   "source": [
    "#define cross-validation method to use\n",
    "cv = LeaveOneOut()\n",
    "y_true = []\n",
    "y_pred = []\n",
    "for train_ix, test_ix in cv.split(X_data):\n",
    "# split data\n",
    "    X_train, X_test = X_data.iloc[train_ix, :], X_data.iloc[test_ix, :]\n",
    "    y_train, y_test = y_data.iloc[train_ix], y_data.iloc[test_ix]\n",
    "# fit model\n",
    "    model = Ridge(alpha=0.001)\n",
    "    model.fit(X_train, y_train)\n",
    " # evaluate model\n",
    "    yhat = model.predict(X_test)\n",
    "    # store\n",
    "    y_true.append(y_test.iloc[0])\n",
    "    y_pred.append(yhat[0])\n",
    "# # calculate accuracy\n",
    "# acc = accuracy_score(y_true, y_pred)\n",
    "# print('Accuracy: %.3f' % acc)\n"
   ]
  },
  {
   "cell_type": "code",
   "execution_count": 30,
   "id": "994fe5e5",
   "metadata": {},
   "outputs": [
    {
     "data": {
      "text/plain": [
       "(0.6073638143027614, 8.17651867885591e-80)"
      ]
     },
     "execution_count": 30,
     "metadata": {},
     "output_type": "execute_result"
    }
   ],
   "source": [
    "import numpy as np\n",
    "import scipy.stats\n",
    "scipy.stats.pearsonr(y_pred, y_true)"
   ]
  },
  {
   "cell_type": "code",
   "execution_count": 32,
   "id": "7829587b",
   "metadata": {},
   "outputs": [
    {
     "data": {
      "image/png": "[encoded data removed]",
      "text/plain": [
       "<Figure size 432x288 with 1 Axes>"
      ]
     },
     "metadata": {
      "needs_background": "light"
     },
     "output_type": "display_data"
    }
   ],
   "source": [
    "# Visualising the Test set results\n",
    "theta = np.polyfit(y_true, y_pred, 1)\n",
    "y_line = theta[1] + theta[0] * np.array(y_true)\n",
    "plt.scatter(y_true, y_pred, color = 'blue')\n",
    "plt.plot(y_true, y_line, 'black')\n",
    "plt.title('Apology mturk_rating')\n",
    "plt.xlabel('true mturk_rating')\n",
    "plt.ylabel(\"Ridge regression predicted mturk_rating\")\n",
    "plt.show()"
   ]
  },
  {
   "cell_type": "code",
   "execution_count": 33,
   "id": "25e35e8b",
   "metadata": {},
   "outputs": [],
   "source": [
    "#define cross-validation method to use\n",
    "cv = LeaveOneOut()\n",
    "y_true = []\n",
    "y_pred = []\n",
    "for train_ix, test_ix in cv.split(X_data):\n",
    "# split data\n",
    "    X_train, X_test = X_data.iloc[train_ix, :], X_data.iloc[test_ix, :]\n",
    "    y_train, y_test = y_data.iloc[train_ix], y_data.iloc[test_ix]\n",
    "# fit model\n",
    "    model = Lasso(alpha=0.001)\n",
    "    model.fit(X_train, y_train)\n",
    " # evaluate model\n",
    "    yhat = model.predict(X_test)\n",
    "    # store\n",
    "    y_true.append(y_test.iloc[0])\n",
    "    y_pred.append(yhat[0])\n",
    "# # calculate accuracy\n",
    "# acc = accuracy_score(y_true, y_pred)\n",
    "# print('Accuracy: %.3f' % acc)\n"
   ]
  },
  {
   "cell_type": "code",
   "execution_count": 34,
   "id": "a634f893",
   "metadata": {},
   "outputs": [
    {
     "data": {
      "text/plain": [
       "(0.654754461480556, 1.14464205322851e-96)"
      ]
     },
     "execution_count": 34,
     "metadata": {},
     "output_type": "execute_result"
    }
   ],
   "source": [
    "import numpy as np\n",
    "import scipy.stats\n",
    "scipy.stats.pearsonr(y_pred, y_true)"
   ]
  },
  {
   "cell_type": "code",
   "execution_count": 36,
   "id": "85cde87a",
   "metadata": {},
   "outputs": [
    {
     "data": {
      "image/png": "[encoded data removed]",
      "text/plain": [
       "<Figure size 432x288 with 1 Axes>"
      ]
     },
     "metadata": {
      "needs_background": "light"
     },
     "output_type": "display_data"
    }
   ],
   "source": [
    "# Visualising the Test set results\n",
    "theta = np.polyfit(y_true, y_pred, 1)\n",
    "y_line = theta[1] + theta[0] * np.array(y_true)\n",
    "plt.scatter(y_true, y_pred, color = 'pink')\n",
    "plt.plot(y_true, y_line, 'black')\n",
    "plt.title('Apology mturk_rating')\n",
    "plt.xlabel('true mturk_rating')\n",
    "plt.ylabel(\"Lasso regression predicted mturk_rating\")\n",
    "plt.show()"
   ]
  },
  {
   "cell_type": "code",
   "execution_count": null,
   "id": "6009a685",
   "metadata": {},
   "outputs": [],
   "source": []
  },
  {
   "cell_type": "code",
   "execution_count": null,
   "id": "0358d7f3",
   "metadata": {},
   "outputs": [],
   "source": []
  },
  {
   "cell_type": "code",
   "execution_count": null,
   "id": "a538a53a",
   "metadata": {},
   "outputs": [],
   "source": []
  },
  {
   "cell_type": "code",
   "execution_count": null,
   "id": "0c088fa5",
   "metadata": {},
   "outputs": [],
   "source": []
  }
 ],
 "metadata": {
  "kernelspec": {
   "display_name": "Python 3 (ipykernel)",
   "language": "python",
   "name": "python3"
  },
  "language_info": {
   "codemirror_mode": {
    "name": "ipython",
    "version": 3
   },
   "file_extension": ".py",
   "mimetype": "text/x-python",
   "name": "python",
   "nbconvert_exporter": "python",
   "pygments_lexer": "ipython3",
   "version": "3.8.8"
  }
 },
 "nbformat": 4,
 "nbformat_minor": 5
}
