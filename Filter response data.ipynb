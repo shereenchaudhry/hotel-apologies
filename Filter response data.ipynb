{
 "cells": [
  {
   "cell_type": "markdown",
   "metadata": {},
   "source": [
    "### Filter LIWC and TextAnalyzer data and merge them into one, and create response data to be fed into R code"
   ]
  },
  {
   "cell_type": "code",
   "execution_count": 30,
   "metadata": {},
   "outputs": [],
   "source": [
    "import pandas as pd\n",
    "import numpy as np"
   ]
  },
  {
   "cell_type": "markdown",
   "metadata": {},
   "source": [
    "Read in data"
   ]
  },
  {
   "cell_type": "code",
   "execution_count": 31,
   "metadata": {},
   "outputs": [],
   "source": [
    "liwc = pd.read_excel('CR_Apology/CR - Apology Existence - TA data - LIWC.xlsx')\n",
    "ta = pd.read_excel('CR_Apology/CR - Apology Existence - TA data- Text Analyzer .xlsx')"
   ]
  },
  {
   "cell_type": "code",
   "execution_count": 32,
   "metadata": {},
   "outputs": [],
   "source": [
    "sat = pd.read_excel('CR_Apology/CR - Apology Effectiveness - TA - satisfied.xlsx')\n",
    "vis = pd.read_excel('CR_Apology/CR - Apology Effectiveness - TA - visit.xlsx')"
   ]
  },
  {
   "cell_type": "code",
   "execution_count": 33,
   "metadata": {},
   "outputs": [],
   "source": [
    "#drop duplicate columns in textanalyzer data\n",
    "ta.drop(columns=['row_num', 'hotel', 'rating', 'review', 'response',\n",
    "       'triptype', 'dateofstay', 'responder', 'respondeddate', 'word count'] + [f'existence_rater{i}' for i in range(1, 14)], inplace=True)"
   ]
  },
  {
   "cell_type": "code",
   "execution_count": 34,
   "metadata": {
    "scrolled": true
   },
   "outputs": [],
   "source": [
    "#rename TextAnalyzer columns for clarity\n",
    "ta.columns = [col_name + '_TA' for col_name in ta.columns]"
   ]
  },
  {
   "cell_type": "code",
   "execution_count": 35,
   "metadata": {
    "scrolled": true
   },
   "outputs": [],
   "source": [
    "df = liwc.join(ta)"
   ]
  },
  {
   "cell_type": "markdown",
   "metadata": {},
   "source": [
    "Merge with brand data"
   ]
  },
  {
   "cell_type": "code",
   "execution_count": 36,
   "metadata": {},
   "outputs": [],
   "source": [
    "brand = pd.read_excel('brand.xlsx')"
   ]
  },
  {
   "cell_type": "code",
   "execution_count": 37,
   "metadata": {},
   "outputs": [],
   "source": [
    "brand.rename(columns={'Unnamed: 0':'row_num', 'Brand Names ':'Brand', 'Response': 'response'}, inplace=True)"
   ]
  },
  {
   "cell_type": "code",
   "execution_count": 38,
   "metadata": {},
   "outputs": [],
   "source": [
    "brand.drop_duplicates('response', keep='first', inplace=True)"
   ]
  },
  {
   "cell_type": "code",
   "execution_count": 39,
   "metadata": {},
   "outputs": [],
   "source": [
    "df = df.merge(brand[['response', 'Brand']], on='response')"
   ]
  },
  {
   "cell_type": "markdown",
   "metadata": {},
   "source": [
    "### Existence"
   ]
  },
  {
   "cell_type": "code",
   "execution_count": 40,
   "metadata": {},
   "outputs": [],
   "source": [
    "#get number of raters for each response\n",
    "df['num_ratings'] = df[[f'existence_rater{i}' for i in range(1, 14)]].stack().reset_index().groupby('level_0').count()[0]"
   ]
  },
  {
   "cell_type": "code",
   "execution_count": 41,
   "metadata": {},
   "outputs": [],
   "source": [
    "#get average rating of mturkers\n",
    "df['mturk_rating'] = df[[f'existence_rater{i}' for i in range(1, 14)]].mean(axis=1)"
   ]
  },
  {
   "cell_type": "code",
   "execution_count": 42,
   "metadata": {},
   "outputs": [],
   "source": [
    "import matplotlib.pyplot as plt"
   ]
  },
  {
   "cell_type": "code",
   "execution_count": 43,
   "metadata": {},
   "outputs": [],
   "source": [
    "#create binary apology column\n",
    "df['apology'] = df['mturk_rating'] > 0"
   ]
  },
  {
   "cell_type": "code",
   "execution_count": 44,
   "metadata": {
    "scrolled": false
   },
   "outputs": [
    {
     "name": "stderr",
     "output_type": "stream",
     "text": [
      "/Users/HIPark/opt/anaconda3/lib/python3.7/site-packages/ipykernel_launcher.py:2: SettingWithCopyWarning: \n",
      "A value is trying to be set on a copy of a slice from a DataFrame\n",
      "\n",
      "See the caveats in the documentation: http://pandas.pydata.org/pandas-docs/stable/user_guide/indexing.html#returning-a-view-versus-a-copy\n",
      "  \n"
     ]
    }
   ],
   "source": [
    "existence = df[df.num_ratings >= 3]\n",
    "existence.drop_duplicates(subset = 'response', inplace=True)"
   ]
  },
  {
   "cell_type": "code",
   "execution_count": 45,
   "metadata": {},
   "outputs": [
    {
     "data": {
      "image/png": "[encoded data removed]",
      "text/plain": [
       "<Figure size 432x288 with 1 Axes>"
      ]
     },
     "metadata": {
      "needs_background": "light"
     },
     "output_type": "display_data"
    }
   ],
   "source": [
    "plt.hist(existence.mturk_rating)\n",
    "plt.title('Histogram of Apology Existence Score')\n",
    "plt.xlabel('Score')\n",
    "plt.ylabel('Frequency')\n",
    "plt.show()"
   ]
  },
  {
   "cell_type": "code",
   "execution_count": 46,
   "metadata": {},
   "outputs": [],
   "source": [
    "ones = existence[existence['apology'] == 1].index\n",
    "zeros = existence[existence['apology'] == 0].index"
   ]
  },
  {
   "cell_type": "code",
   "execution_count": 47,
   "metadata": {},
   "outputs": [],
   "source": [
    "ones = existence.loc[np.random.choice(ones, 400, replace=False)]"
   ]
  },
  {
   "cell_type": "code",
   "execution_count": 48,
   "metadata": {},
   "outputs": [],
   "source": [
    "zeros = pd.concat([existence.loc[np.random.choice(zeros, (400 - len(zeros)), replace=True)], existence.loc[zeros]])"
   ]
  },
  {
   "cell_type": "code",
   "execution_count": 49,
   "metadata": {},
   "outputs": [],
   "source": [
    "existence = pd.concat([ones, zeros])"
   ]
  },
  {
   "cell_type": "code",
   "execution_count": 50,
   "metadata": {},
   "outputs": [],
   "source": [
    "df.drop(columns = [f'existence_rater{i}' for i in range(1, 14)], inplace=True)"
   ]
  },
  {
   "cell_type": "code",
   "execution_count": 51,
   "metadata": {},
   "outputs": [],
   "source": [
    "df.drop(columns=['num_ratings', 'mturk_rating', 'apology'], inplace=True)"
   ]
  },
  {
   "cell_type": "code",
   "execution_count": null,
   "metadata": {},
   "outputs": [],
   "source": [
    "existence.to_csv('existence_bal.csv', index=False)"
   ]
  },
  {
   "cell_type": "markdown",
   "metadata": {},
   "source": [
    "### Satisfied and Visit"
   ]
  },
  {
   "cell_type": "code",
   "execution_count": 52,
   "metadata": {},
   "outputs": [],
   "source": [
    "sat = sat[['row_num'] + [f'satisfied_rater{i}' for i in range(1, 14)]].merge(df, on='row_num')"
   ]
  },
  {
   "cell_type": "code",
   "execution_count": 53,
   "metadata": {},
   "outputs": [],
   "source": [
    "sat['num_ratings'] = sat[[f'satisfied_rater{i}' for i in range(1, 14)]].stack().reset_index().groupby('level_0').count()[0]"
   ]
  },
  {
   "cell_type": "code",
   "execution_count": 54,
   "metadata": {},
   "outputs": [],
   "source": [
    "sat['mturk_rating'] = sat[[f'satisfied_rater{i}' for i in range(1, 14)]].mean(axis=1)"
   ]
  },
  {
   "cell_type": "code",
   "execution_count": 55,
   "metadata": {},
   "outputs": [],
   "source": [
    "sat['satisfied'] = sat['mturk_rating'] > 0"
   ]
  },
  {
   "cell_type": "code",
   "execution_count": 56,
   "metadata": {},
   "outputs": [],
   "source": [
    "#sd = sat['mturk_rating'].std()\n",
    "#mean = sat['mturk_rating'].mean()"
   ]
  },
  {
   "cell_type": "code",
   "execution_count": 57,
   "metadata": {},
   "outputs": [],
   "source": [
    "#sat['satisfied_sd'] = None"
   ]
  },
  {
   "cell_type": "code",
   "execution_count": 58,
   "metadata": {},
   "outputs": [],
   "source": [
    "#sat['satisfied_sd'][(sat['mturk_rating'] < mean - 0.5*sd)] = 0\n",
    "#sat['satisfied_sd'][(sat['mturk_rating'] > mean + 0.5*sd)] = 1"
   ]
  },
  {
   "cell_type": "code",
   "execution_count": 59,
   "metadata": {},
   "outputs": [],
   "source": [
    "sat = sat[sat.num_ratings >= 3]"
   ]
  },
  {
   "cell_type": "code",
   "execution_count": 60,
   "metadata": {
    "scrolled": true
   },
   "outputs": [],
   "source": [
    "sat.drop_duplicates(subset = 'response', inplace=True)"
   ]
  },
  {
   "cell_type": "code",
   "execution_count": 61,
   "metadata": {},
   "outputs": [
    {
     "data": {
      "image/png": "[encoded data removed]",
      "text/plain": [
       "<Figure size 432x288 with 1 Axes>"
      ]
     },
     "metadata": {
      "needs_background": "light"
     },
     "output_type": "display_data"
    }
   ],
   "source": [
    "plt.hist(sat.mturk_rating)\n",
    "plt.title('Histogram of Satisfaction Score')\n",
    "plt.xlabel('Score')\n",
    "plt.ylabel('Frequency')\n",
    "plt.show()"
   ]
  },
  {
   "cell_type": "code",
   "execution_count": 62,
   "metadata": {},
   "outputs": [],
   "source": [
    "#sat.to_csv('satisfied.csv', index=False)"
   ]
  },
  {
   "cell_type": "code",
   "execution_count": 63,
   "metadata": {},
   "outputs": [],
   "source": [
    "ones = sat[sat['satisfied'] == 1].index\n",
    "zeros = sat[sat['satisfied'] == 0].index"
   ]
  },
  {
   "cell_type": "code",
   "execution_count": 64,
   "metadata": {},
   "outputs": [],
   "source": [
    "ones = sat.loc[np.random.choice(ones, 400, replace=False)]\n",
    "zeros = pd.concat([sat.loc[np.random.choice(zeros, (400 - len(zeros)), replace=True)], sat.loc[zeros]])\n",
    "sat = pd.concat([ones, zeros])"
   ]
  },
  {
   "cell_type": "code",
   "execution_count": 77,
   "metadata": {},
   "outputs": [],
   "source": [
    "sat.to_csv('satisfied_bal.csv', index=False)"
   ]
  },
  {
   "cell_type": "code",
   "execution_count": 65,
   "metadata": {},
   "outputs": [],
   "source": [
    "vis = vis[['row_num'] + [f'visit_rater{i}' for i in range(1, 14)]].merge(df, on='row_num')"
   ]
  },
  {
   "cell_type": "code",
   "execution_count": 66,
   "metadata": {},
   "outputs": [],
   "source": [
    "vis['num_ratings'] = vis[[f'visit_rater{i}' for i in range(1, 14)]].stack().reset_index().groupby('level_0').count()[0]"
   ]
  },
  {
   "cell_type": "code",
   "execution_count": 67,
   "metadata": {},
   "outputs": [],
   "source": [
    "vis['mturk_rating'] = vis[[f'visit_rater{i}' for i in range(1, 14)]].mean(axis=1)"
   ]
  },
  {
   "cell_type": "code",
   "execution_count": 68,
   "metadata": {},
   "outputs": [],
   "source": [
    "vis['visit'] = vis['mturk_rating'] > 0"
   ]
  },
  {
   "cell_type": "code",
   "execution_count": 69,
   "metadata": {},
   "outputs": [],
   "source": [
    "#sd = vis['mturk_rating'].std()\n",
    "#mean = vis['mturk_rating'].mean()\n",
    "#vis['visit_sd'] = None\n",
    "#vis['visit_sd'][(vis['mturk_rating'] < mean - 0.5*sd)] = 0\n",
    "#vis['visit_sd'][(vis['mturk_rating'] > mean + 0.5*sd)] = 1"
   ]
  },
  {
   "cell_type": "code",
   "execution_count": 70,
   "metadata": {},
   "outputs": [],
   "source": [
    "vis = vis[vis.num_ratings >= 3]"
   ]
  },
  {
   "cell_type": "code",
   "execution_count": 71,
   "metadata": {},
   "outputs": [],
   "source": [
    "vis.drop_duplicates(subset = 'response', inplace=True)"
   ]
  },
  {
   "cell_type": "code",
   "execution_count": 72,
   "metadata": {},
   "outputs": [
    {
     "data": {
      "image/png": "[encoded data removed]",
      "text/plain": [
       "<Figure size 432x288 with 1 Axes>"
      ]
     },
     "metadata": {
      "needs_background": "light"
     },
     "output_type": "display_data"
    }
   ],
   "source": [
    "plt.hist(vis.mturk_rating)\n",
    "plt.title('Histogram of Visit Score')\n",
    "plt.xlabel('Score')\n",
    "plt.ylabel('Frequency')\n",
    "plt.show()"
   ]
  },
  {
   "cell_type": "code",
   "execution_count": 73,
   "metadata": {},
   "outputs": [],
   "source": [
    "ones = vis[vis['visit'] == 1].index\n",
    "zeros = vis[vis['visit'] == 0].index"
   ]
  },
  {
   "cell_type": "code",
   "execution_count": 74,
   "metadata": {},
   "outputs": [],
   "source": [
    "zeros = vis.loc[np.random.choice(zeros, 400, replace=False)]\n",
    "ones = pd.concat([vis.loc[np.random.choice(ones, (400 - len(ones)), replace=True)], vis.loc[ones]])\n",
    "vis = pd.concat([ones, zeros])"
   ]
  },
  {
   "cell_type": "code",
   "execution_count": 75,
   "metadata": {},
   "outputs": [],
   "source": [
    "#vis.to_csv('visit.csv', index=False)"
   ]
  },
  {
   "cell_type": "code",
   "execution_count": 76,
   "metadata": {},
   "outputs": [],
   "source": [
    "vis.to_csv('visit_bal.csv', index=False)"
   ]
  },
  {
   "cell_type": "code",
   "execution_count": null,
   "metadata": {},
   "outputs": [],
   "source": []
  },
  {
   "cell_type": "code",
   "execution_count": 94,
   "metadata": {},
   "outputs": [],
   "source": [
    "df = pd.read_csv('visit.csv')"
   ]
  },
  {
   "cell_type": "code",
   "execution_count": 95,
   "metadata": {},
   "outputs": [],
   "source": [
    "df1 = pd.read_csv('existence.csv')"
   ]
  },
  {
   "cell_type": "code",
   "execution_count": 96,
   "metadata": {},
   "outputs": [],
   "source": [
    "df2 = pd.read_csv('satisfied.csv')"
   ]
  },
  {
   "cell_type": "code",
   "execution_count": 97,
   "metadata": {},
   "outputs": [],
   "source": [
    "vis = df[['row_num', 'visit']].merge(df1[['row_num', 'apology']], on='row_num')\n",
    "sat = df2[['row_num', 'satisfied']].merge(df1[['row_num', 'apology']], on='row_num')"
   ]
  },
  {
   "cell_type": "code",
   "execution_count": 16,
   "metadata": {},
   "outputs": [],
   "source": [
    "vis_chart = [len(vis[(vis.visit == True) & (vis.apology == True)]), len(vis[(vis.visit == True) & (vis.apology == False)]),\n",
    "len(vis[(vis.visit == False) & (vis.apology == True)]), len(vis[(vis.visit == False) & (vis.apology == False)])]\n",
    "sat_chart = [len(sat[(sat.satisfied == True) & (sat.apology == True)]), len(sat[(sat.satisfied == True) & (sat.apology == False)]),\n",
    "len(sat[(sat.satisfied == False) & (sat.apology == True)]), len(sat[(sat.satisfied == False) & (sat.apology == False)])]"
   ]
  },
  {
   "cell_type": "code",
   "execution_count": 21,
   "metadata": {},
   "outputs": [],
   "source": [
    "sat_label = ['Satisfied, Apology', 'Satisfied, No Apology', 'Not Satisfied, Apology', 'Not Satisfied, No Apology']\n",
    "vis_label = ['Visit, Apology', 'Visit, No Apology', 'No Visit, Apology', 'No Visit, No Apology']"
   ]
  },
  {
   "cell_type": "code",
   "execution_count": 19,
   "metadata": {},
   "outputs": [],
   "source": [
    "import matplotlib.pyplot as plt"
   ]
  },
  {
   "cell_type": "code",
   "execution_count": 25,
   "metadata": {},
   "outputs": [
    {
     "data": {
      "image/png": "[encoded data removed]",
      "text/plain": [
       "<Figure size 432x288 with 1 Axes>"
      ]
     },
     "metadata": {
      "needs_background": "light"
     },
     "output_type": "display_data"
    }
   ],
   "source": [
    "plt.bar(vis_label, vis_chart)\n",
    "plt.xticks(rotation=90)\n",
    "plt.show()"
   ]
  },
  {
   "cell_type": "code",
   "execution_count": 26,
   "metadata": {},
   "outputs": [
    {
     "data": {
      "image/png": "[encoded data removed]",
      "text/plain": [
       "<Figure size 432x288 with 1 Axes>"
      ]
     },
     "metadata": {
      "needs_background": "light"
     },
     "output_type": "display_data"
    }
   ],
   "source": [
    "plt.bar(sat_label, sat_chart)\n",
    "plt.xticks(rotation=90)\n",
    "plt.show()"
   ]
  },
  {
   "cell_type": "code",
   "execution_count": null,
   "metadata": {},
   "outputs": [],
   "source": []
  }
 ],
 "metadata": {
  "kernelspec": {
   "display_name": "Python 3",
   "language": "python",
   "name": "python3"
  },
  "language_info": {
   "codemirror_mode": {
    "name": "ipython",
    "version": 3
   },
   "file_extension": ".py",
   "mimetype": "text/x-python",
   "name": "python",
   "nbconvert_exporter": "python",
   "pygments_lexer": "ipython3",
   "version": "3.7.4"
  }
 },
 "nbformat": 4,
 "nbformat_minor": 2
}
