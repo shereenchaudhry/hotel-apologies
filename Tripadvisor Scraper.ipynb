{
 "cells": [
  {
   "cell_type": "markdown",
   "metadata": {
    "colab_type": "text",
    "id": "E2XB_l-Hgzq_"
   },
   "source": [
    "# Scraping TripAdvisor with Selenium 2020"
   ]
  },
  {
   "cell_type": "code",
   "execution_count": null,
   "metadata": {},
   "outputs": [],
   "source": [
    "#based on code by giuseppegambino https://github.com/giuseppegambino/Scraping-TripAdvisor-with-Python-2020/"
   ]
  },
  {
   "cell_type": "markdown",
   "metadata": {
    "colab_type": "text",
    "id": "vZPgpRl5g2e2"
   },
   "source": [
    "In this notebook It is described how to scrape TripAdvisor reviews with Selenium.\n",
    "\n",
    "The code is commented but if you have any doubts, don't hesitate to get in touch with me"
   ]
  },
  {
   "cell_type": "markdown",
   "metadata": {
    "colab_type": "text",
    "id": "Fjad5jsr9YaM"
   },
   "source": [
    "## Step 1: import the libraries "
   ]
  },
  {
   "cell_type": "code",
   "execution_count": null,
   "metadata": {
    "colab": {},
    "colab_type": "code",
    "id": "9S4CiOh3RzFW"
   },
   "outputs": [],
   "source": [
    "import csv\n",
    "import time\n",
    "from selenium import webdriver\n",
    "from selenium.common.exceptions import NoSuchElementException"
   ]
  },
  {
   "cell_type": "code",
   "execution_count": null,
   "metadata": {},
   "outputs": [],
   "source": [
    "from selenium.webdriver.common.keys import Keys"
   ]
  },
  {
   "cell_type": "code",
   "execution_count": null,
   "metadata": {},
   "outputs": [],
   "source": [
    "from selenium.webdriver.common.by import By\n",
    "from selenium.webdriver.support.ui import WebDriverWait\n",
    "from selenium.webdriver.support import expected_conditions as EC"
   ]
  },
  {
   "cell_type": "code",
   "execution_count": null,
   "metadata": {},
   "outputs": [],
   "source": [
    "from selenium.webdriver.chrome.options import Options"
   ]
  },
  {
   "cell_type": "code",
   "execution_count": null,
   "metadata": {},
   "outputs": [],
   "source": [
    "%%capture\n",
    "from tqdm import tqdm_notebook as tqdm\n",
    "tqdm().pandas()"
   ]
  },
  {
   "cell_type": "markdown",
   "metadata": {
    "colab_type": "text",
    "id": "oRQd4-v0nQqH"
   },
   "source": [
    "## Step 2: load the web driver and the page"
   ]
  },
  {
   "cell_type": "code",
   "execution_count": null,
   "metadata": {
    "colab": {},
    "colab_type": "code",
    "id": "18nn6eW_s-fV"
   },
   "outputs": [],
   "source": [
    "# function to check if the button is on the page, to avoid miss-click problem\n",
    "def check_exists_by_xpath(xpath):\n",
    "    try:\n",
    "        driver.find_element_by_xpath(xpath)\n",
    "    except NoSuchElementException:\n",
    "        return False\n",
    "    return True"
   ]
  },
  {
   "cell_type": "code",
   "execution_count": null,
   "metadata": {},
   "outputs": [],
   "source": [
    "#from webdriver_manager.chrome import ChromeDriverManager"
   ]
  },
  {
   "cell_type": "code",
   "execution_count": null,
   "metadata": {},
   "outputs": [],
   "source": [
    "#driver = webdriver.Chrome(ChromeDriverManager().install()) - run if not the driver is not installed"
   ]
  },
  {
   "cell_type": "code",
   "execution_count": null,
   "metadata": {},
   "outputs": [],
   "source": [
    "#options = Options()\n",
    "#options.headless = False\n",
    "driver = webdriver.Chrome('/Users/HIPark/.wdm/drivers/chromedriver/mac64/85.0.4183.87/chromedriver') #directory where the folder is installed\n",
    "driver.minimize_window()\n",
    "#main search page\n",
    "driver.get('https://www.tripadvisor.com/Hotels-g60745-Boston_Massachusetts-Hotels.html') #change url according to the city"
   ]
  },
  {
   "cell_type": "code",
   "execution_count": null,
   "metadata": {},
   "outputs": [],
   "source": [
    "#check the 3 stars checkbox\n",
    "driver.find_elements_by_xpath(\".//div[@class='ui_checkbox u-658Xev _1kVF4wUw']\")[22].click()\n",
    "time.sleep(5)"
   ]
  },
  {
   "cell_type": "code",
   "execution_count": null,
   "metadata": {
    "scrolled": false
   },
   "outputs": [],
   "source": [
    "#get url of all hotels in the first two pages\n",
    "check = []\n",
    "hotel_dict = {}\n",
    "for l in range(2):\n",
    "    #find all hotels in the page\n",
    "    hotels = driver.find_elements_by_xpath(\".//div[@class='meta_listing ui_columns large_thumbnail_mobile ']\")\n",
    "    for j in tqdm(range(len(hotels))):\n",
    "        try:\n",
    "            name = hotels[j].find_elements_by_xpath(\".//a[@data-clicksource='HotelName']\")[0].text\n",
    "            link = hotels[j].find_element_by_css_selector('a').get_attribute('href')\n",
    "            hotel_dict[name] = link \n",
    "            check.append(name)\n",
    "        except:\n",
    "            pass\n",
    "    #if (check_exists_by_xpath('//a[@class=\"nav next ui_button primary cx_brand_refresh_phase2\"]')):\n",
    "    driver.find_element_by_xpath('//a[@class=\"nav next ui_button primary  cx_brand_refresh_phase2\"]').click()\n",
    "    time.sleep(5)\n",
    "driver.close()"
   ]
  },
  {
   "cell_type": "code",
   "execution_count": null,
   "metadata": {},
   "outputs": [],
   "source": [
    "hotel_lst = [(k,v) for k, v in hotel_dict.items()]"
   ]
  },
  {
   "cell_type": "code",
   "execution_count": null,
   "metadata": {},
   "outputs": [],
   "source": [
    "lst = []"
   ]
  },
  {
   "cell_type": "code",
   "execution_count": null,
   "metadata": {
    "scrolled": false
   },
   "outputs": [],
   "source": [
    "#go through all hotel urls and get the ratings\n",
    "current_len = len(lst)\n",
    "driver = webdriver.Chrome('/Users/HIPark/.wdm/drivers/chromedriver/mac64/85.0.4183.87/chromedriver')\n",
    "driver.minimize_window()\n",
    "for i, name_link in tqdm(enumerate(hotel_lst[0:])):\n",
    "    name, link = name_link\n",
    "    print(i, name)\n",
    "    # go to hotel page\n",
    "    driver.get(link)\n",
    "    #hotels[j].find_elements_by_xpath(\".//div[@class='ui_column is-narrow title_wrap']\")[0].click()\n",
    "    #driver.switch_to.window(driver.window_handles[-1])\n",
    "    #driver.minimize_window()\n",
    "\n",
    "    #Only pick ratings 1~3\n",
    "    time.sleep(10)\n",
    "    driver.find_elements_by_xpath('.//label[@class=\"_2PPG44IR _1o34NnSP\"]')[2].click()\n",
    "    time.sleep(5)\n",
    "    driver.find_elements_by_xpath('.//label[@class=\"_2PPG44IR _1o34NnSP\"]')[3].click()\n",
    "    time.sleep(5)\n",
    "    driver.find_elements_by_xpath('.//label[@class=\"_2PPG44IR _1o34NnSP\"]')[4].click()\n",
    "    time.sleep(5)\n",
    "    driver.minimize_window()\n",
    "\n",
    "    for i in tqdm(range(20)): #first 20 pages of review\n",
    "\n",
    "        try:\n",
    "            # to expand the review \n",
    "            driver.find_element_by_xpath(\".//div[@class='XUVJZtom']\").click()\n",
    "            time.sleep(5)\n",
    "        except:\n",
    "            print('Cant expand')\n",
    "            pass\n",
    "\n",
    "        container = driver.find_elements_by_xpath(\".//div[@class='_2wrUUKlw _3hFEdNs8']\")\n",
    "        num_page_items = len(container)\n",
    "\n",
    "        for k in range(num_page_items):\n",
    "            try:\n",
    "                response = container[k].find_element_by_xpath(\".//span[@class='sT5TMxg3']\").text.replace(\"\\n\", \"\")\n",
    "            except:\n",
    "                continue\n",
    "\n",
    "            # to save the rating\n",
    "            string = container[k].find_element_by_xpath(\".//span[contains(@class, 'ui_bubble_rating bubble_')]\").get_attribute(\"class\")\n",
    "            data = string.split(\"_\")\n",
    "            if int(data[3]) > 30:\n",
    "                continue\n",
    "            review = container[k].find_element_by_xpath(\".//q[@class='IRsGHoPm']\").text.replace(\"\\n\", \"\")\n",
    "\n",
    "            try:\n",
    "                trip_type = container[k].find_elements_by_xpath(\".//span[@class='_2bVY3aT5']\")[0].text\n",
    "            except:\n",
    "                trip_type = None\n",
    "\n",
    "            try:\n",
    "                date_of_stay = container[k].find_elements_by_xpath(\".//span[@class='_34Xs-BQm']\")[0].text\n",
    "            except:\n",
    "                trip_type = None\n",
    "            \n",
    "            try:\n",
    "                manager, response_date = tuple(container[k].find_elements_by_xpath(\".//div[@class='_204cKjWJ']\")[0].text.split('\\n'))\n",
    "            except:\n",
    "                manager = response_date = container[k].find_elements_by_xpath(\".//div[@class='_204cKjWJ']\")[0].text\n",
    "\n",
    "            # to save in a csv file readable the star and the review [Ex: 50,\"I love this place\"]\n",
    "            \n",
    "            lst.append([name, data[3], review, response, trip_type, date_of_stay, manager, response_date])\n",
    "\n",
    "        # to change the page\n",
    "        if (check_exists_by_xpath('//a[@class=\"ui_button nav next primary \"]')):\n",
    "            driver.find_element_by_xpath('//a[@class=\"ui_button nav next primary \"]').click()\n",
    "        else:\n",
    "            print('Next button does not exist')\n",
    "            break\n",
    "        time.sleep(5)\n",
    "    \n",
    "    print('Collected', len(lst) - current_len, 'Responses')\n",
    "    current_len = len(lst)\n",
    "    #driver.close()\n",
    "    #driver.switch_to.window(driver.window_handles[0])\n",
    "    driver.minimize_window()\n",
    "driver.close()"
   ]
  },
  {
   "cell_type": "markdown",
   "metadata": {},
   "source": [
    "## Step 3: Save reviews into csv"
   ]
  },
  {
   "cell_type": "code",
   "execution_count": null,
   "metadata": {},
   "outputs": [],
   "source": [
    "import pandas as pd"
   ]
  },
  {
   "cell_type": "code",
   "execution_count": null,
   "metadata": {},
   "outputs": [],
   "source": [
    "df = pd.DataFrame(lst)\n",
    "df.columns = ['Hotel', 'Rating', 'Review', 'Response', 'Trip type', 'Date of Stay', 'Responder', 'Responded date']\n"
   ]
  },
  {
   "cell_type": "code",
   "execution_count": null,
   "metadata": {},
   "outputs": [],
   "source": [
    "df.to_csv('boston.csv') #change name according to the city"
   ]
  }
 ],
 "metadata": {
  "accelerator": "TPU",
  "colab": {
   "collapsed_sections": [],
   "name": "scraping tripadvisor",
   "provenance": [],
   "version": "0.3.2"
  },
  "kernelspec": {
   "display_name": "Python 3",
   "language": "python",
   "name": "python3"
  },
  "language_info": {
   "codemirror_mode": {
    "name": "ipython",
    "version": 3
   },
   "file_extension": ".py",
   "mimetype": "text/x-python",
   "name": "python",
   "nbconvert_exporter": "python",
   "pygments_lexer": "ipython3",
   "version": "3.7.4"
  }
 },
 "nbformat": 4,
 "nbformat_minor": 1
}
